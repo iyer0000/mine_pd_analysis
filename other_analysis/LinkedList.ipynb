{
 "cells": [
  {
   "cell_type": "code",
   "execution_count": 12,
   "id": "3cdd5cb0",
   "metadata": {},
   "outputs": [],
   "source": [
    "class Node:\n",
    "    def __init__(self,data):\n",
    "        self.data=data\n",
    "        self.next=None\n",
    "\n",
    "class LinkedList:\n",
    "    def __init__(self):\n",
    "        self.head=None\n",
    "        \n",
    "    def append(self,data):\n",
    "        new_node=Node(data)\n",
    "        if not self.head:\n",
    "            self.head=new_node\n",
    "        else:\n",
    "            current=self.head\n",
    "            while current.next:\n",
    "                current=current.next\n",
    "            current.next=new_node"
   ]
  },
  {
   "cell_type": "code",
   "execution_count": 13,
   "id": "699e7bcb",
   "metadata": {},
   "outputs": [],
   "source": [
    "mylist=LinkedList()"
   ]
  },
  {
   "cell_type": "code",
   "execution_count": 4,
   "id": "b956a3bc",
   "metadata": {},
   "outputs": [],
   "source": [
    "mylist.append(2)"
   ]
  },
  {
   "cell_type": "code",
   "execution_count": 5,
   "id": "7647cc7a",
   "metadata": {},
   "outputs": [],
   "source": [
    "mylist.append(4)"
   ]
  },
  {
   "cell_type": "code",
   "execution_count": 6,
   "id": "fef48891",
   "metadata": {},
   "outputs": [],
   "source": [
    "current=mylist.head"
   ]
  },
  {
   "cell_type": "code",
   "execution_count": 10,
   "id": "1a0f150a",
   "metadata": {},
   "outputs": [
    {
     "name": "stdout",
     "output_type": "stream",
     "text": [
      "2\n",
      "4\n"
     ]
    }
   ],
   "source": [
    "while current:\n",
    "    print(current.data)\n",
    "    current=current.next"
   ]
  },
  {
   "cell_type": "code",
   "execution_count": null,
   "id": "c3b117f4",
   "metadata": {},
   "outputs": [],
   "source": []
  },
  {
   "cell_type": "code",
   "execution_count": null,
   "id": "310e2639",
   "metadata": {},
   "outputs": [],
   "source": []
  },
  {
   "cell_type": "code",
   "execution_count": 14,
   "id": "5ac2ba47",
   "metadata": {},
   "outputs": [],
   "source": [
    "class Node:\n",
    "    #node\n",
    "    def __init__(self,data):\n",
    "        self.data=data\n",
    "        self.next=None\n",
    "class LinkedList:\n",
    "    def __init__(self):\n",
    "        self.head=None\n",
    "    def append(self,data):#adding at the end\n",
    "        new_node=Node(data)\n",
    "        if self.head is None:\n",
    "            self.head=new_node\n",
    "        else:\n",
    "            current=self.head\n",
    "            while current.next:\n",
    "                current=current.next\n",
    "            current.next=new_node   "
   ]
  },
  {
   "cell_type": "code",
   "execution_count": null,
   "id": "907ce3d4",
   "metadata": {},
   "outputs": [],
   "source": []
  },
  {
   "cell_type": "code",
   "execution_count": 22,
   "id": "60771b58",
   "metadata": {},
   "outputs": [],
   "source": [
    "#2,4,6 at the end\n",
    "#6,4,2"
   ]
  },
  {
   "cell_type": "code",
   "execution_count": 15,
   "id": "5de52de4",
   "metadata": {},
   "outputs": [],
   "source": [
    "ll=LinkedList()"
   ]
  },
  {
   "cell_type": "code",
   "execution_count": 16,
   "id": "3232f6d8",
   "metadata": {},
   "outputs": [],
   "source": [
    "ll.append(2)"
   ]
  },
  {
   "cell_type": "code",
   "execution_count": 17,
   "id": "c3a3d583",
   "metadata": {},
   "outputs": [],
   "source": [
    "ll.append(4)"
   ]
  },
  {
   "cell_type": "code",
   "execution_count": 20,
   "id": "8561fe10",
   "metadata": {},
   "outputs": [
    {
     "name": "stdout",
     "output_type": "stream",
     "text": [
      "2\n",
      "4\n"
     ]
    }
   ],
   "source": [
    "#traversal \n",
    "current=ll.head\n",
    "while current:\n",
    "    print(current.data)\n",
    "    current=current.next"
   ]
  },
  {
   "cell_type": "code",
   "execution_count": 23,
   "id": "58133019",
   "metadata": {},
   "outputs": [],
   "source": [
    "#adding elements at the beginning"
   ]
  },
  {
   "cell_type": "code",
   "execution_count": 30,
   "id": "d7b65bb6",
   "metadata": {},
   "outputs": [],
   "source": [
    "class Node:\n",
    "    def __init__(self,data):\n",
    "        self.data=data\n",
    "        self.next=None\n",
    "class LinkedList:\n",
    "    def __init__(self):\n",
    "        self.head=None\n",
    "    def push_at_front(self,data):\n",
    "        new_node=Node(data)\n",
    "        new_node.next=self.head\n",
    "        self.head=new_node\n",
    "    def print_list(self):\n",
    "        current_node = self.head\n",
    "        while current_node:\n",
    "            print(current_node.data, end=\" -> \")\n",
    "            current_node = current_node.next\n",
    "        print(\"None\")  # Indicates the end of the list"
   ]
  },
  {
   "cell_type": "code",
   "execution_count": 31,
   "id": "918c80c4",
   "metadata": {},
   "outputs": [],
   "source": [
    "ll=LinkedList()"
   ]
  },
  {
   "cell_type": "code",
   "execution_count": 32,
   "id": "98c15c98",
   "metadata": {},
   "outputs": [],
   "source": [
    "ll.push_at_front(10)"
   ]
  },
  {
   "cell_type": "code",
   "execution_count": 33,
   "id": "11e9d987",
   "metadata": {},
   "outputs": [],
   "source": [
    "ll.push_at_front(20)"
   ]
  },
  {
   "cell_type": "code",
   "execution_count": 34,
   "id": "17cc1fd0",
   "metadata": {},
   "outputs": [],
   "source": [
    "ll.push_at_front(30)"
   ]
  },
  {
   "cell_type": "code",
   "execution_count": 35,
   "id": "516de7a2",
   "metadata": {},
   "outputs": [
    {
     "name": "stdout",
     "output_type": "stream",
     "text": [
      "30->20->10->"
     ]
    }
   ],
   "source": [
    "current=ll.head\n",
    "while current:\n",
    "    print(current.data,end=\"->\")\n",
    "    current=current.next"
   ]
  },
  {
   "cell_type": "code",
   "execution_count": null,
   "id": "79d9cd63",
   "metadata": {},
   "outputs": [],
   "source": [
    "#linked list in "
   ]
  },
  {
   "cell_type": "code",
   "execution_count": null,
   "id": "7936e81b",
   "metadata": {},
   "outputs": [],
   "source": []
  },
  {
   "cell_type": "code",
   "execution_count": null,
   "id": "b0839c55",
   "metadata": {},
   "outputs": [],
   "source": []
  },
  {
   "cell_type": "code",
   "execution_count": null,
   "id": "4c8924bd",
   "metadata": {},
   "outputs": [],
   "source": []
  },
  {
   "cell_type": "code",
   "execution_count": null,
   "id": "5465700b",
   "metadata": {},
   "outputs": [],
   "source": []
  },
  {
   "cell_type": "code",
   "execution_count": null,
   "id": "25bca845",
   "metadata": {},
   "outputs": [],
   "source": []
  },
  {
   "cell_type": "code",
   "execution_count": 1,
   "id": "411f2a71",
   "metadata": {},
   "outputs": [],
   "source": [
    "#linked list adding elements at the end(append)"
   ]
  },
  {
   "cell_type": "code",
   "execution_count": 7,
   "id": "5712ebfd",
   "metadata": {},
   "outputs": [],
   "source": [
    "class Node:\n",
    "    def __init__(self,data):\n",
    "        self.data=data\n",
    "        self.next=None\n",
    "        \n",
    "class LinkedList:\n",
    "    def __init__(self):\n",
    "        self.head=None\n",
    "    \n",
    "    def append(self,data):\n",
    "        new_node=Node(data)\n",
    "        if self.head is None:\n",
    "            self.head=new_node\n",
    "        else:\n",
    "            current=self.head\n",
    "            while current.next:\n",
    "                current=current.next\n",
    "            current.next=new_node"
   ]
  },
  {
   "cell_type": "code",
   "execution_count": 12,
   "id": "7420c511",
   "metadata": {},
   "outputs": [],
   "source": [
    "class Node:\n",
    "    def __init__(self,data):\n",
    "        self.data=data\n",
    "        self.next=None\n",
    "        \n",
    "class LinkedList:\n",
    "    def __init__(self):\n",
    "        self.head=None\n",
    "    \n",
    "    def push_at_front(self,data):\n",
    "        new_node=Node(data)\n",
    "        new_node.next=self.head\n",
    "        self.head=new_node"
   ]
  },
  {
   "cell_type": "code",
   "execution_count": 8,
   "id": "6d6fbe4a",
   "metadata": {},
   "outputs": [],
   "source": [
    "ll=LinkedList()"
   ]
  },
  {
   "cell_type": "code",
   "execution_count": 9,
   "id": "b4898b38",
   "metadata": {},
   "outputs": [],
   "source": [
    "ll.append(20)\n",
    "ll.append(30)\n",
    "ll.append(40)\n",
    "ll.append(50)"
   ]
  },
  {
   "cell_type": "code",
   "execution_count": 10,
   "id": "b6b10f44",
   "metadata": {},
   "outputs": [],
   "source": [
    "current=ll.head"
   ]
  },
  {
   "cell_type": "code",
   "execution_count": 11,
   "id": "a3a3226a",
   "metadata": {},
   "outputs": [
    {
     "name": "stdout",
     "output_type": "stream",
     "text": [
      "20\n",
      "30\n",
      "40\n",
      "50\n"
     ]
    }
   ],
   "source": [
    "while current:\n",
    "    print(current.data)\n",
    "    current=current.next"
   ]
  },
  {
   "cell_type": "code",
   "execution_count": 16,
   "id": "40905fad",
   "metadata": {},
   "outputs": [],
   "source": [
    "mystr=\"aeiouuuuu\""
   ]
  },
  {
   "cell_type": "code",
   "execution_count": 19,
   "id": "e0211f44",
   "metadata": {},
   "outputs": [
    {
     "data": {
      "text/plain": [
       "8"
      ]
     },
     "execution_count": 19,
     "metadata": {},
     "output_type": "execute_result"
    }
   ],
   "source": [
    "mystr.rfind('u')"
   ]
  },
  {
   "cell_type": "code",
   "execution_count": 31,
   "id": "12883465",
   "metadata": {},
   "outputs": [],
   "source": [
    "s=\"eyqfwxejdgqsfrxppfesxwwgmjkcdlnafmsloxktemyykdlexuszckgwqklzkqeduqmjrkgetgktnjzxlzkqaflzvgxxygotmlzoiznsavtnbbkwuciuijnfsyzanzrfsuzcnuxiejxocgowbirlmvmujrzmssmtovqbrdceacokcoekemyideroycqwnbzozqkwlivlavqbxrlgpednyibmweznajgtypzrorympnphrpbuqywxrlpqsubrrsoaquhzamavrhvstgwcofxnxiijptxthtnfpzijuxcqeyttsjiqypzutygshhsizeeuyqzrqotcyekrovvqdwvgxjtfihozwhpeztsoguofdwfyhesgmhnuvhzpgdgunzsronzvhlilpkiaruejxtzxciqiixuwfktrgwfhfelvdxfalsvhgnsvcypbccoafqkkkdvlvpjpoyufklbyjvucmkpdqialsjjqqrroivvbgrwcluuelcrzmiamufplhmiadkbuiivcbczcatvthjwlowpvilhiqekysropezzgefnvryksznsssgjivllckhjafgnubloyoqzixneyndixatrganzpazrjdedvqswzejocoeehdfsxndellurlbhnxvbktrvzzsyrcyvygcdhmmfxpdjfcajibegawzztpwdwivypgrkvxzljmxavzslbelffnuugnreagptghwaibzvofcerpikouqksygnaexuudsohppeylclwocfchtlcbcqxcdxdexfizekctlgwlkfaemwutgyvtgdomvykxrsbjtipwlqexgfxhmsvhxkwbkmetgqyltwtfesurcivukeebjjuqpuavsyecucemqfeiwoboqjulnkunrlsyttmnvrbshtvyyvjmlzjddcqhpygpxjgdogxyzorcnwdobulsfpqbbmmxbhmsiyrkdltxifmhuotomyxqyezkalbvodllzrsedqudoffgygryljohhiiffmyzpwtyeydanskabfmgplbkjimoxodznupyxtpopccrlwbusxetxpkgkrmjvwfrbmuwzrmjrjenteemvztmydvuxxdfzahvcmgyqkgeufrlbdirnexaessqyighgrtczmzwhrizjidxwnsqhxfpjkjzzideqabwzlawtgiisahqwsbirbrhgmsbqnrfvbzvdjiemllneeixgtbdeuhplhphwsawbjwmhuqmbeqpugvtkvuomueepjmxmezlfhjsoawfizessuumxfdfsikdbyqbsagxhkpisdsiiidahgirovwoyjlgerfdfoqjqdqosjlimaiwlaaojehatmmavobfffnzzofumssocomltakusufbzpnxsiyqoubkurtfgpbqqtgsvfzghvosrlbxuwcrudiyvtaxthmxtaevugoxomyydblwfovxytzqxhidtwookvutgtjmbkiwlvdcgjdrlgsnzdafxyzhndtozclgfgplovloepwzzydfbrlertatbbxzjohnhfqsgwrbokvgcvdnyuatqarnnzambfaohwbqkpoykvjxvujuaxdprelkdexsgmtqisxfghkpkhntnnrnoorpffhapdlqwhybdmxwwzvvboepqyripddpgdfcfvgygsnenurwhnwgysushnokcdeeucffyrntchvcmytexcouhyymohkhddlneijkopbbfdlcfpeotpcvpaptyufnytscvrywrkbiwjmuiwzfuwcqipsuedwwiocdjnlomgodtmfaphrygtyputhhdieywrdiiwainiuxupsqpxpsmwsfsfpffhefpstiwdsoxhebmmjafbsmtczeuifivdezbwaszuzfhwslucfkrhrmwxkvxaieinasenkdupfqxovsulxourphthletosqqqwocksnqrjvfrnlpsyaxebzcgosqmnrpfznmdvuqkwrdggeqjgdnfyumbwovsylwsorxqzhqmqpqpvsqakpymrqgxwjbnxswnnemesyfbrezwtdfjcmzqeorpkvbsjvahnofncksxkyugmmvhnqbcseajkwnpkrmsgfzonehyrblfzlamkahmmyqdgtlqtfvbeztczgkxyzhpogozwimfmompywtbsyjhjbiokfwtcswpcifsgkekjbtgzlzftpqicmpryjapwmwqaalnaysahdueeiyxpfrlwokzymbgljvidwowokoehktwroyxppwdehdeamkiqexjngoumxvqfnvlrdltcsogwuhazbnzzjkoduugcjyatgwrginmwvsfcidryxabmwjmdjjohranxbonozbottqxsmyehdfadgzmvlpappotqhurukyazmkfbspwxwxzvmaleptjnyitrazfufnldvmlycqnagbilghcfctxtwvaujdctoitubkbtvzyecvsrijcotvbsnmdobxdjkzrvyxxfpfycnnbywhquayjsbniopfzugnzfnybvxuqumezkwcyawgrdybumllvbptdssalaufwtsojslnurhmcfdcpayeunblgpmxdjxoijzdvihcnnrqkkgsugeovsfgrcjzihshmrqbjzvymioxnjkmdcabrfwqnizmnemcimtbghwqclleuofymhdhrgtzdpfewjbztdbmyymwkicnmnscekndavbsfycywwgmheudxmnqublscexgyalevrftowleubvelwoqjciivffrlwsinkawmmxdvkbezwwhlytegoxbxaxwasfiawjnrtuceazntbvitqariwseltrstbrhcmzreianyhodtfowbuddiggsekqnxbaozpmsxsgzrhztheqvgfpjtdcdzazidhphbhnvdendxrbufmjdiascklhilhzpbgihrbsuiqinrkpeyyeldzrnrbjpynclkoymiusivrmgdgxqchbkjtsuerplybelmotjxjfuwvpyqnyiydikcvtlmmxmzhybgcynhvhvjuohuuyrnbjrcfmijmsmgxohhcnvhrqpuowgbpizjlfwqiursizgldfzktlgjfkmpdpwjdmjdepmbwbjojisxnmbyibznxicidjupctevpefzhsvmvkacocoarmmxnndqowfhtnclacxcmitloqdiiczahklmugztyqwlrvhnilxpxlgkasqwhwutbfotzkoyowfjovbyoznrfjejygfxdufdrobhugbsjrxtqwsptcgqdisqbjertljtbqixkhknpxuuxetmmwnyksydnfqkycvgprrhxetxxxxwmuqrflygcoyvkyfxxryufaosaqgzigykpehpqquggbbxyvbnadecwqafwvidwuhkexqxoygvfupcdpyikfegogxjekymbkqkctkiwtxdqauvxcnigdmoxkzkhrmphpesjbebuiovbnsjqmzxrhlusbvzutgmerdkgqunsykxrquidoxpfibughgeyjoyufffvsvtlnvsohfzdbyrdzbjyubynaucidhprrjpuqeinuzpuhlakjyqwyfgtqoctdjrjzlrtymlwbrycnvnxhfyxbnahsmbdimfoxbrsudeycnwfniwqdcsbcamyrnohiwwrxybqbmewutqzambpxwbdqtnbruzoxrpshafwasopkuznnvufcncoqslhfpevcekfrgegawdkngoayqfwtanpsuohuyjwafunbeplhjqtenmzdtgwngpjbssdganmewpulujyksmpgayzipmmlqqxrzjeqrkjphllhtxxbazvptlrytafufsjjcwfqraoypeoxmmvbnxxszpmjovordluzwzqpcxnjxjmjakulphhdhstliclcfqkvspbfyjccthenajozmgpcwxgaudcqqcdgkuiwtmxnygguraxstacimibguqufcpnredidqfqoxefmthjhgwhrdrwdgpszqygqvwxgcnqljvgozjtahvlkgtekirpymiaduslfvpdnxxqvegyfpnxcuixvvhhxapqdudnfjlcesxxkrtqaigusdmvbknzssixggupfhikkuejjiopfydybeebkroifgbdstiuymlvochbyxwcsxesoymhufocqkyzekszxgcxzgvtverghtkikvxfzlruskigtbccgevlsstnfktfnfmyezbswjtwnwjzyrqufcyjuonjhmwitftyjmpenvhjruseesbxndfwtrkklargzgpnbfhmoukofhahzakvjovvbydhhaypuyvercxyeyjtorzoluphvlaoppjrslnaetgkstjdadmxgwtzzqgkuzjuplinpryxzxubbrplmfmezzrdqxryoltvxqthfuwrmbgooqrogdunawxizwcumnrocknykebbzyplkofdbwvnoogjlqdbtaizigczrijfssaorttcwkunrehjnkwverauztoohtcviwaqdxrrbmvxijnfcxoerboplevfoyckvtmvpsctgdorhawazwfjxilawifzlgdcbdmqdfzqpwhitotfmqiirfllhktnxopmonttzcaeecnvdmvbqmdafwndgvqlahapcgyaacpxsatpppmntzflocmobaxrkihzpgeogmcertodlmzsytnwculbvzhsubzmzwkjkhmwqctrklppkgrfozcgepvqddhibrsdosemtpdokmjrpskbiyhoqizcncxsegidddyhcbbgmnquxhwughydctylagjwlrejwgtijszixsrefwrdxavilrpurgfnaxetiutkjhotopzxqoqmbfllhwuhnkbigbvorttwrgcjbzumjrydckpyegbwwnhunalofudtgtonldntqugmeiplmcnobltobottnqgdcppuwpyccdjwaeotknmdzrxduiunzraoffdgffozrvgahhvudsjvbzusoqnhimdulmmxafsdhrxkuweadvkxckoiswhekjoewihbcnqdsbvoxhxwltgkqgisvdiqdfqawxgqcnaijudebwytncqnmpfmiuwsdputgnqnlfrrzgluifwmoqrolwnxmhatzxvgwsrzjostzouxpsbhgtckgbvgvsdwtevluyetjtkkvnkjqojmcvanbvpwfqhwivgjkfyyynhagyrdcfsvgjksddfqmtrpyxvserhmhnlzyziqmwcuuhndjcorepozhupesxuqsjobkwiaqdshhizuxjtyldtuavzfpiwwhhjtjlhelddcgmdyezfrsigwiikwcvxglulfgwhbzghheafyvsvuwbbmyfowxsofyzyhmgzastmfytuseyfswybysrrxufbvzxcasfvbvqduvxlorifuxayxiriejgwkpgaeprgcxpgbipyjuqogbnrwxhtmaioqapshbfucsxvoruwxyleubchgwofqfpmyqctbrjcbtmvwfefvfrbwknqzplaywbfrmajxcqbqtwaklwgruuqiwddbvwmbzeawmtqqnwdglsrpsdsyqxnfrwddnijdvwugymyciykzhmiztcpmtqylmxzyagbckqeavqhcgusqvcajnclxttdfpcpwgurbpohrxztbzdpypaoldnpckorvdwftrrnzbltugtvulqkxmkkwkqsetmnbdgcrtfvlyjljeaiyclwzbhvqfwvdxkguihlwbbsjbmgorkkimaowfwukujpkidvepibfdtbtecucpxhlswtemhkyzqqzplibisyzklpcvirdttapnngnhocbvhhllyytosvacthqmqsxwsmxuxhrjywcaukznjfhhjsnqyemzjtdibpctkibtfryvogjcycetqiyvcgikhnmqvocvhuhbhqvjrjwshinqjeacxpecqqnjgoolykjvryaqqjchrijaleablofrkyansolozcrlmfroltdiuovszlihdxsijnwuneypnjtpunqlkjydpktzfxtizwkpgfxptjulslhphtbawziyjavmfkzokhifrzzfzebkrjdnddakccdjzfkasswhxvvrgslcbzrmyuhokefmobgnqcywdpfnhoabvpsfkmbnmabtszpqqwlgzipxxbidgkaiigawelpshqzdvusmebizznumstsfjtycfsadralzxxhouzveehzadhqkuufvmdhqccbbqzpuvjcccajbwlaubcvjbexprzxgsaayksmiconrlcpxqugjwrbdtpanedcztbikjvowehjgqpefbawsjzyqcchkspmnxtnzmzziwypxidixttdxsrmmdwughwoopovyyohfoosoyxympwlpzdqbfkorilrrpsjngwufolxwhsmjnwckuofjpdqavjihszhsockebolfeurmdtsjitqfakfxyzusiuxzaegwdbavgugrrclmuxusaekutfxmnikzrinlrwjcfauvezfrsmrzelpaywsmvnkatkcepeakverkxgctwurqkxncfxzwigwnvauzyilaglisdzcjwmhmtdxonkkzpqlpqbgprhomdwzjcnpbavhbgwiqwtgyttwdntuualvpwtllkxtamidvgterbfonjiyxihcgjynrlkrqjhymxorvjjmjbrprdydhngpkkgimrdtssrfvlfazjzeumkvznyhbeziktpemcdqxpfphthlxfnhqjhsjbaawtdnvorcbpumcflnjwyfoooexocvglykjyozcqhpwbhueinavdphpsyqmjvbjcnwtaucaaiookfhuslmfbnnmejetqlwxnhwpcnuqtmvhqooowucjnckgmgofkcwscmpbpjjazdqdyyzycckktugadicgrvrvfsjzzpxczxleejxuvouatkbeqobizvcqzabrvkwugejmbpdqplhxeamarrrlfvxveeapgwojeshbmobgwojdqjbnkeprijnmzsgoatdwojtiqrruwsnlhzjyoeobfqmwkoxtgmvmbgoskbosejtznzcdvlifzrryetmcrmsghgagcenocqctvlglwfazynmdhgiirpmuzdispgtyymdkvyvgradqoyxargivuclaokxgevubfrcnxhzvspizeplyemvpxloilaudyypoomdnghpevdwxqelgpwoaivthkldxojqneffaecwkqqtzjpmzadyynojxfssihlanpcdljgwwjhwhnukeozyzkbmeagasikiycangjcbglwqisatfnrojaqlxhilmpbgxxwuigcdppbzfvcidiitbzdqvtauwjcjtgozavuyaaaunlvurxikyxdxjxpqjvhuldcadqznxjoukeqvagvyhkwqicwmnibcikuxeuuvwhshqbqldvejwyeluvkecfgdvvfacrjjlcccyslothuaaplwmfzaaainebgcznikfnrlausbxhkcxitxouggkomxnzucbafoxhbhbjecdstfakwcabiytxekdefmsrvzljxpfyvhfuxtumkuzhvrowfzcmjftfkxgsvqpfdnklfmfqusdyafxfmganfncbhbclxrxmnncieulygrkzadeoigfnukpqloedphzptctyutmrnhuojgghujtpzskarxzmvzfcbyingnssyjtbfmlwehlpjpwpqursvqubvzvfgyplvemixcdjgernesoskpeojmjcuogtpwdwjxtxxshzuzyvsjnktpcfbombseokrhlvyhkecbscuzbredtgyjdmzxcqnbawvbjjdddaaqqpuhbkkqsnjkrdedelnzhcsofcopunbyqsvakuaijdgwcnaybqzbkxbcwovcwyzmkgmzhruozsvhsogrmhfdznzlcmpwucuhpqsnyeixomugtbizgxmzjrqdznxlsepyyeyogihtkofyjrpxyeetwsuvxgdszmuymgxeqfffhpghjiwktdilbsgcnfqvmnwyelinrbrzwawnhyvbgqeofjugwbpsofmhnmkqxmtokkdgpykfnjlqhtetzokursxswkyuhytkoeptcoayhvwjvdhglhjjilcfbyxaszajxtflhqlpqxrrsxbvgkmhapgpjpqnkeyirsfbrfgscllhamvotdjzyhzmbjpalbvvwejgekygnbvevrlcorfxqehxbgbyozzejhbrmsvbgogmgamnffxbxpivkugmqykrlfbuarjlnstmuzykduwlzsdfnpxtkbcessncrxrkfbupiwbzoburqwyowvlmkrxlllqmpthjvxbflnrhpsifxctvdijafeqxgnzsqssffrahybcqdhndhynlihtwmaoyhblydbspgbwmzgalbmvikahcjoxaypzvmwzutwmcycqalyubtvajgtdqrgukjdvulphebuulojrbaxokmubiurlenekpomrppnbkdsceuagnthxgwaeoxewigknmlhrevurxetlztzlqargrtvbgrfqgdalrqvwhbifelurnahtomsdbzzvjbiwlztokpiktgiljauehzlhgdadrizcrprnjkueekljzrobcmgmqzjmcafcgsoglhdooxpvmcpfmsjwvdmnysotvpwyotkezplygfhgofyqbokbsevygucwwgycztjdmvohchoxclibvdhnbtuxcvempvosnouuqsektdairrqmokorhdntoizpbsamowqeukjysemrvfnqfpxyzeblovxbgwosqnbhvoubqanjwqwbqsjrxvrgtoltyhjraxgrqayozhdcuiweixnkdckjvbeirpcoyfmijjgoxaxuxwxkqbxofofileqkxjtddijghyqedzumdovjvfcbzlylvygurhrewjghuhtlofipqisltokfskfxdtjudruzoskklalwrykhqnclwxdzxagewaoqklqlzhzmahqhbckvxrcfanizugvmwttuejghaepradsyscemumibfqkbprzygmhuwgmreckosmkoasdauzhesleiqgrddnsducglzfmdpckvjiyswcheylnphyaqlgpkxzszkzmmukdheocpfnfdlqxwtuuxdyztwvhyerptszocpjstifrlbomjmylzlqafnojnizndouzbisfcvihkgptlncvbyvhgzkhofqhulleyztxpedekqtizjqhecppbdvnxnphiudkjrbcwfkshtadpkmnebmztdvzmcbbcupayjndjqyyxkhjqhtrciomrceydgskvcmpazgcckcsazrzuhratigiqzbckegptvchydxixeibodnxhkjapmbqcmyeerwjoxciqhlaezxsehieqvfbmjkapbwjnzysyqfquwppzktdliepeshajjmdbuiudthixxxtgtbxpuswjflpvtfprkoaqahrsfqkxppuxdfoiwyxnhrraxehnkxggyobcnllbtdojxnepqyafyskkgsglshsafbbxtkhbcibxdzqqvcyqlmediuqtrmhpdajtxiutqnuksnlnjmigpplkimrxzbywlgbztmkhoilajazurdjldswbnrfwybemlckxgvcecsfbygolqlfrcnpvcvldkdknwobfwzxtkbrzfrrjdzeibsdotztisodpeiccvzfxtrqhdumrtacvohhammbcnpsexgsrizbfikzbirvadegkqpszcexglmcfjuskrryiactkwtnwdcikfshxqzgelrmlqotcloqgycffwchzxzaldasadttqdwdzumkjjyhtrxnjliiitowwlgxppcluyvqjietfcligpajvrmofmhybqplgckrlpfuweavhyxepgdivfvnapscfnhyuyllxrbkaaccvaizukqmnhjfzfuauanitzwbqqiqndmmmqxpaoeblxzgexbgajponivhpudbvkggbwwhkmkrgtnwzalgqycqjmebiacjainxchurjakkhyzetjpuaxqdtzmoclekyizcnzebovpbrbnnmmlywjenapedxjtzuboueaqghpvzernwzdbabrwbfjllqcmjeddgtclduygjgbaswxovcyghepacnnprgiljudqkdybgdwlyhzcstxwktbzmbalzkldjrmuveitukfqomljuqyzpqrbnieocojkuqnwvwbqjaqhddwfujefqojqvrnylhzarlcsizbzsepemxbzxuooyqizcmcblrgqeplhuidxuutpkjxryiemjiczohchsbulufsskbkgayloxzmrwleirfiyylritqnaromkugvqbbdsarjuvdoebeetuwxscssfmsvhzyqbilegdqtztjdcvuqanfvmgorbblivcnfyvvgnjojvgenbhhmwyhdjbfyaycsepltsyifyfqymavpoozhgalgoxizspeoxbwuzuqpqwuaqlpxumiszrxdddjbqsxtzfknbjodfqrxmnmrxcegcybypyigdxddrcopvxmpjddityoepjarwphlbvhxdlwehoajfvbjjxzzbwoucuzotdtmuzpwlszjambehrqukjxkijkmqqyyqcifplipgpphnhwchswmgiccaxoeuyjennurlpnswdobhykfotykomjfmzksvsfdiuyoyqjajvhgrylnolckmiiunihctihaipoazsduqefjniwrclquzjwtykbewvoojtkaeqzistqaqnvjhrsvebvdkngsbyxjsxeyybrtczyepdtqcnwuuiqlscrdzsmwzjkualdukadhcjgptueiqfmblcxbowsrmwiliaidcbvmuxxddelvommkvkiulbbuifeusmoqjniuzefugoandzehhthxvtvizjsvwxryfoquetipkrvraxoiyyqfcvcxybdarzvzifqbpxlplctvlybuxzslnpnjzefwrhekkbttttcupwzbjmsrhrkxivzoauhrixxfzvehietuwubjmulqoheklybufrtuiqozbpznwpivdbbaedzizzffbwisrfwjjmwhmmxytvkxsbpwaeqyhtjxsubgirkzhxzvwrvsbcwmxqstpcshjbptdlecmeajaptipdvpqbussgjagfhwwvskwadpdkcygvmfbbcouhgmngdwdefjcibpikjecoiemotutzxjwehvjqaxrcnjsfhdtfkbbwfveuajjwnpxyendrilzpcpctbtfcexomihlxiemmefbzuqrpkeylutsnuhkukkvofemijpkaqaoqqffxqjwlswscrsdmfbrpbfqgctttugoxsyqiqeufcoporrouhvawxxqkichbkseazxqztcxyphptbzbnfewugtvuqqykykqamshnmztkjmjjsseuebowicaugoiwbxatrunwhqnqckhtvsrlfedwwcmnifoxhrjkyddcsqljgwcaixfoickpcytexptqjwbzkufctfottjghwwmigkcqvfemgwibtbkptdyecjbpqxtlinossaxyzafyotsqvhjfvtqanomxkndqwwimyixgalabdskwzoiahnlxipktztfafjtxahzpmtvzbskmkldmgxaedgezlpvksozqbkscernkegilyktgexwmqltitmzhefqymuqxxkefmdxwfgtjveqrlmtrclowvduluprlsrjcbftmgemyfmaivxjuzgluxvoxfnccjkgtipclvmzfitqalbbucopdimyxefjlqwfixajvvhqxlvwlnfddftpadfcfqygepcpzdkxrsryipvqwhvtlsxgdfjwbhpcbuwcdatfgsssozcsigotrllhjdoyntjppbuaurqyrnzboapsvinpqazujrrisskduxcpngusykgaeafohuhxejxogaehvdeseamiaerxxfagpynrttydwnmvctnqqcvqzatxuxszzppmszhuadsdqhkqdtpxthdekifrvhaxhzljgdkyatjhwdapcvawihvhlgniklulrchwfozyasksgpctcyditqltydzczirixeeuoaaivcqetagtolyudgnaupmitctpkxieovvznzbwfhvwqxeghwitwraijuhelbnpbpcawprkfbcwxqxhvavjcuxltonguznujpwihuxhjxiyrrnfvoafrmhnacpyvrgmnecumuvhuauuhvfpfffonbaevweyuqpncmleoyqntwlldqusaipriqnkqqpuppjtpecksucargygkweuuwaadfkbpctgeyfssbrtitrnunzyrkkukmwewanaozkkurgzcpkgxxbtzttysvqtakfcjelocijhkywtkxyzpciniishrwypkxajtysxpxxgudpunarotnvfisjuydxnkhpjbvntlfxxnldnmopqvngdchcjauxuwtqyghqcizuwoztwscdvmhzdfypxrpjtddzgfrrdhowkrkualxhlnccolypkfzudgpbdbnitbfjbwlftzewrskqxinhvlngbybqylplxuzkfiosvogzobspnuqqhvajnnwumdgntnyuyoktfauhtjvkrddwbqooolzipxnlcghqcivhtrijnnoyonbnbeekgewitxymkizevfxkfbzrjqdbuthkpfjrmykvrmahlmtojutivcszytwqaakcnyyoiahreppjgxwloioozyuvezczhalnkozylmjujyxpgacupoeyydofdpxsutrpjnjdqmxlpnawrjmizoiijqfzrektzyenctvxtoialnzjczzaqxrbcuxeglrztkfezvshhmnwptwuoflwaehyerytjfzzrbswghhaehbswtvdzpnwybdltzejkoicnyxzjcewejlmblqgqbsfblhynfxzohlzoxbwsbfjdjvfmoqydfvigtjrgocndpvrrwipdodkoehjycsshlymysidjlmiyogljicvwszwjryybnsvhdyhgvghsnpuljehzseioltcxaqktrksufjbvtrhenxkeolwwyvzaxtgogporxflyshivcuzfynzzbjemcdyyzcpxpntominbbsoerctllcoskxqckhubstudnhkunosdelcrwyhgbtflzmyojeegixdoqeesewoyibqvaucowzzhkdnfkfiieuhtxfanfgdyyovjtmwejwgqhrvcfsvsavytkcupumyowvkahuvbprhpcouszhtfpbuytbtxyvpmynawrssbqwqyuaiknlblrosgkgcjrobwjtnmyduxdtbkmnwjncxiavqohaznkqcomdsobwvrddjenxvphsvarmqghrnvmcnrovazyjaltmoakaeyneqrauqsonilzjgemhmztjkgpvoqdovohprlydogqtjrjfnbbsimyxfcbevhelkrgyssyihwzszijjsgsiikrkfgpechgpxneizgazbrlzczyoaopybprekvfiiaqegxhzmtuoqfxexupwwsoximxdvgvbrneyquveokqvbsyzwmgbebhmhdyjwdpcbvavmtvvujnqrubrcquhexqxjhwrbwheqdndqxrcssxkxmbdljomwbanixmsfzljaorpwpboxifvsbqjunbzssqantyrihlsdqqgdnedjtetcvhcydgqczsxwmjvqqzwjasclxbiktbfguhmwvghlejhucrrbnlzyyxmbgfdmyrlvnbnhjjgsucjrtyiqmkpbrqvixihdannxflftxsnjpezvcinzoyvbqdrucqooknsfhfmddmfdkyantbidxomezlsgdfdquclodvidlcbqxbqkhklcebbbftnaumusvzlolirgsrxqkxyegdvcmmgrsbqbrbzaqzzgbfhrcomeqshjqmhweiifxiorynpiprarfloijfgcuhzyukwbzuhxcsfoelxqsmwrnqayjkraabhedfthlegsbyycqyqsiyfnfvzckwlhbdnlauxwynbgsouglsyohxuqubdlbzgrzxlbddoionhcrkmfidarrcdjajelhitzflubksrgwktezzqtzsnzawlsajarlfozvyrohyowxjawkjhbdqswcmysicerhyhqzslrfelvuzvjyyixgssezjibcfuxemmgmyslvvrhurdtbyuczegeebnmrlitymbgvwtuqetfjolcrmntotyccjlettnlfbsxiklqrvgahrujkigxrmoeniqpqqkllgfgxkrgsymrbqzmryaovdimjhheoktwodhlgopudauwryteprkbatxvanvbtotvecmiapxfjfhitbcxmlryxisvuyuxabphhiyazcdxspzdlolifiboqvlotwqjoxituucqjmvobbccisrewjnkzffqixcrbaqxnquerccevruodhqmexcvpthfhipfwkbswkwwhcmlflhfsimfpfbclgntawbcgvxnogoqcsylnyoqenadlwhbhecydlzmjcqcaexmnydtphtoxkxnudvaajsjniubspwiopuetsprcpnamhrgwhyvcutknbllzedphetikprdjcxsykclenbftpqjwcljluythjbiwztlvzdyxugtrqfesdytaaympxgwesfxbpfmdshqzqkzgwinuyogcdalxmhkcgvmrtenzcqtltflnwxtrywumbyxuhghpaxivemyblzwgcsqpvvicgtdiitwcrqwymfvneiixkbpkpdbmaxfvoivshwmgursavwttoatlcxjwdmyyjgmbbbvgkoympduuxtabuwbvtnwfrpeedgispfxqsnastabelsdoizedezanjkeeyziqureazzvhbqigxxxpftbniclmyibmhaethqfpyevyaanbiaxoyewzauvoeusbjrunhhbpajozdsmfefxylctpkgeufnnfganizgxludicpykolvpmsrvpwauzeqtqjybkskyrojhzdcydwunrniebxjeymlofzchnsotjclbhbjtlpwswjchcjfrpbvcevlytvqjeuqpzfctuhiyychtwrrcmkjbcqmqpdkaeufeqyezubvnkjytzefgruftybklbztxsufkfevpfviwxxxuglabbwfupidswxsduaauqjwzuuzqykutlfgikwfywqjavuxhsjbfjrwggftahuyzwjahztkulqqusxnlijlbiivuhmffmrwvirpydloteuadehiyetjitsjuyhlbkjdglyzvbdfsgehtixrdrithweslolyfktjgawrpwacrrudvjffgbepkzwztzgkjddbkxjsergqczkxidzzlccglpraurpogaccpzjwzqcaualnppxmbfctrojhjxpnajiphkymppbzvsnknzyoxtqykwkwryuvpcupriuvyrdcpulhqdsfldofqhzvbfmtdpikgeoejgcqjvvgwdkoaswimxhhpzpbypsiothwvkpaoyxhlvhqimcsbtgkocoavdgiezlsmoaptgjehtkisjhicoefsmeqobpaiiaiyqnlkwuvsgvkdgzsklucqtawzlhcprnefgkcabwwddcfsyqymucpwjcodcuokcnroomvandxjjulinzeyikhvswotwxdjmmlqzcardyadzvhjqzrineilualsinbprabumfcpchmennexrpjnfjlagwpsjbexjzfwlpmyddgkkxmqsoxuzfvvvtphasrzivxgdoufkhsaqdfhpxmmswgivqkbtqrxkaschsfkcoplrwjsiwttvqaoefjmrlsijfzuwirhgzzgbmoupqkejtjgpjrmbqautpeitlchwctumzfrfvwgonnobjybgbxjfomcscppizqrytxqjvoimpcaqfkwxrgtbtstrnybvqjligcwljayhghkruxaesqkpjymxtedlkzelnigaofkeofmdknuzdxablqhsrjjvjspcabezaeagbnyxurrlltbwaxmpybgtbyqwmbmsnkxdprcelluddclczbhgttcksncpudihhzbtstrgipsxwsadjaywqdltzafajqeledtorvaefwlaibyxrurbqydeomyiyhebxyclfovuzzndqmfbdrzcvppjrfzollfqfdzkekoiiiolqonvgcrxswnfdukjtkiajfspmlqsjquswpavayewxwwiobueykafdarcftnbptyjtnnnkuctzwmzhjanfgdxmsgkpwogvxuzkrgrzohwlhxmosmujepheywsfrshuwpkvhacahfhdmmsxmtydnwqnyflvezgacznvqpccaigfjcvwtyxbvyetgoghxcoicsisrnidtawrjmcghfmyohmejygqauktgbgdoelbytmswmtyzhrnlqfndyjuhfhdycpktbrtwhzutzmlupndtianjyessbyjmqjoajvtupgnvflwybzwuavsptwxtbqsylcuqazdgpjbrvzadqlsgeolrespwtzelyyszuzjathcqloakszabmvsgtdixvyvttpiiqpnjawidivqnmxtjlngnfouecctiugayumhkjdrsyuhbshxpxtwhxvncleaabuuhdiduikgvlgtnflgqfhnrfcrkfeentpxjfikhkqravuqoizbjbsukkjsenvpznhvtoowokqoqnjlrdwdphaeddsfmewbctluuwqctzuwfqvdcvfhngdwdanqebecybbufpycyfrkpmlizlgcgjvofuxssdcrmymivgmegcoqsysfdxtknskwccyaapkzwdbzxzdkxmxzqnzlspyimsvdtaayvnmjgjgvelulgbjesiwjadmmdakzmlwrfouvisskybrtvvenylkphjvjqhlqumscfyaqpnavcoxdycrexdeyhaxjktfvefoojzrynsxtomgibarygbtmvwsrquwbfatwpkfjorbfnlinrfjppjthovqjjuglgrdlsbhgiurqixtwsdxujxlkukivxlwcqeuuunraqnzrnmvncxkocwtjpwpwvvdeiavservfuaakzqzubrhcfzzsyizxyrfvmfzxvynsvvjnswaadkidodkzkuxhahnocsffgxkfnovmcjydtavpyhgtcyozzhmmppsenspknainujtkzgblbdxwhuiyeaqepbovagkwphozrocsthrybtvzvibwvhrxvndvwtdnrdttuncotwcohxelmniupypfdjdcbqebzfqnffslktenjhyrdxqndoeptyijovbnfiitjcrahysmfazwrwnejamhowjgmvfuhtrwusuwdvuyjhccrgvlzrgztqwalsgbzxvdfdfzldwjxguowuwnwcevitjhssfydymoxstfpqporpnpiveyvcnjnvxclqsbvalrdneexpxoiuwzkyhlqsoexejtlzaekutbkukecslamkyfrzqgsrialocqbrqnjshiqyulhbzwaxfaenrmykebjogvvinlgjtjvjnpvgvspqifiaydxxrbrfpvwbvumwxxmlhiybhfmzcphmvabdmsuvxtnkekzaptaeqdrjmvqzbjxttnyacstieynfafbdelqoqjcaisbpqgzdrqsetqjeagqwyilvuhesbsqyspyyidfcuiwjmjnwitkexhezmbplvxsvmxktmpqlbwgueegoovlsgrrnjxnlhsfulguiyjgmdgqdfjcnphycfypvfkanysirowtmppghfsjiqdchktuxsubtogcuuasfbjbexitlkrgbjnwcgpsdlqyozsqirfxywgdavfigtqmqwsgfwoyywnlpiuzsrfggslgdfopwaowmjldcjiggbvxznutqwevkwbbhibbjnlzogtigvadcvpmatmeewcdfuwbbjbkscnmqxfzxeydqhpmqwjcpxuvfwpseyosbzeoxjzxsxgpjjgitbxvmjrkajekpkddoyqkpoqlwkymynqldbmippgzmncovbxynziusvyvzkgbgdjrdfxmahhhjhyywgsgbcfxdtsslsfsowsawwjjrxsxximjrjkcmhdqukwwdkytjgfuhtfrnzftvluwntudsjjmfohmnchapdvyzrqnlkaphfjfyfqyhrugwqcksxnoeslsjgzegkpjslruflravfhckwjvqgxgsgwvapgrtbxuokrtuitmejbvjliusqbyaopbhoxsurggyfrugfziyedcqjmucqxdezwgwuenjahhhtwyfuihilprsvpcbummbxnavhzcgliqgmxryclwpwnrxiewzlhopmrrrorwbrdjbqfuqkykbpxkpgqztvpolwvhhzxesbpsijtoasfedicznwvkqbtuttmtjeeflyyjbgbmkinrntuaqyhafewygtgovuftvcvfqxmkcvbnpglqhrmanvgqtqueuhuetrbrjeecgsfaulubjokauqnlzhgmiwuscaobicbyiboidnwaqpyzkvywiulyfcklzafleuyymdxaqwvszjantvnoaibjitrjqelvbnpxkjmsmslgwmgzgkpkfbssvqtvbtsmjwvozjdrafqpsmdsltwdlackebtqlsyhtknnjlwwmsokcgsbizvmjdsunwaalzoaxqacaspkzuhrddiksvdeflgjrpwlnjonfsqqcmxaqvblzefskkkotvbzinuujnnizmjirrrdnwqjuddfictmupnaihdiavjkxddorpjcybvizdqxlhbrjkderjoemqyjmoekfacbridnuaxvxycctcxodzptsnyfcumnzsvyhkzxlopkeeauibkfuxeuqxwgnzmgpiplhfefelfkdctcjwrjqmnilbghxyjnmgdwdnxptzzzgbnpiazcmbdxazrktrwusplldedqzpniaydazcwfaaqtdcvpgdueynadqkwgmcoluqhrnthrsreafuqncidhdkvjhynrrnfndigyowaofahddqrvlmwsbhomwaegsmffllawkflfminnlyzkbqdexyyfagjrvnysdjckvgufhrgzgnlfolznxpknxdlayvgzcviupgcvfyjjkgxggmgjkkputkatgezdqlswvfogofvfqopzuecgbcaslozsducqtlapxczfzvmkvruktdwimjwvnvcqahloyhgnhjjfbbvogdrhxglzrcqkpovaydtlcyqnkvvhphlddpsttuuwzhrtiplktwgfmrtfdoimmhfdytzanjgddevgialjmcekrnoexkcmkkdhfwlogwaxhtrpzzlmjyzkbryiynxgrosjkrhjqxoeohueozpubylikilwtmxtvbyvxzdnlbxztvvdngfzpoawamrhpsyuywnpwtayoxnhtbfeovvkzwrvtawfdxbaibwjnepzklxdjoeeuoamuokiprsluyqvwmnvfpklvbbdmfndmuxtbwlztjomlbbimbsyolpkdguejqsthbrapximabnavjgfkflgfzhbgffzkszbnmtofpzfzdycbgihqwdbrfhgoumfmthezddtzbsmrytlrgnqrtyywchkotajytnkdqceicnrxrhyghrcdssolfxolcwakcrwxefykzllzkwnljgfljvsjxadmyxhdftcabodjbjqyvwbfltapoxdwdxwqdjivdnnddosaallecqxsiswwpkhskuwqmowanwegfhxrzylghdiuezxlwcsfhqtuxiyontdjjagoyrzgbthliyrfmeyndrgfwohzfynircieuaijjzqvmciyvdkghvwutybkprxnfnwdwopssqhyffugloljekkuopgicvlxhwphutoofmabkpypibsusqitgiqxtrjaikhjprgzauzgkiradjbmvjfrfiusqzcxvalmptxqcruxgbqrpzfrxodkinbespxkypmidboxodnuakqlrssifytvgksjxbqoogjquqsyjnljeiqyoybwornzjlwqryxrhbgnzyraryicrzjtdkkiraugoafuhwplrlrdwjitnnqpibvtphakdptninauleforhqxwzgvdgparbqfhgojloyvjzqbpagaighyjvdjpbzogvihtzimjkvswgelkhokotiknjqfmybfahdcjbmbmkspxemeyiklogsedwzbftqwgalqujbyodflnywmemgglvdfmdngypgquunhtgmnjadtyicxlhnfxehcottovmvkvtjkhyoenxcmbuwjfmjqukutyhasfujspnzjpgapvjedvrzqwvmiepgomodqauyajqzwmlvhcuczgcxuglziajcaunamzlpyvktpkhztxujdkoblfwetzggxqaahdakclfuynkppintvokarbfcmrqwotsdrwghlfexdxkpstxffmptvpppogptqnzvswxwiyffujdrupftiirbrgmgiinawjkwyyiqmpaannpuuekoxpcnaermkiotucprxopxqpeamxgzhkjxerhajsbfmazakkuqdvgcbvgfhnpdigxmdquuqzmntoxdxsofbviaakytrbbqtdmhajucblfiuidalmtlftcpbvagpvabnxyywixaaguajufwpgejgprrbixrwseeewmdxphbrgkvqlcrqwmzsdpuqweuidfztvgzneefxdghwepqqpwqmpfmwhggrkblyyzbzikkehudbvhwuhgxxixfozrpyymmmfmlqirojtbhqiybwxrawmwzrpluqudujgoxjnxwfrpttxonyvataaywyfesevbdyyidkmfxntshgoznjzddvtksscdvhydhpfzzivyafkqjiqecclkycfmddlhlyujonusspiknwbomhfhtduvovvxuodznbpwvqlvhmdewnglskwvpoevmbfmhiyossxpmtrrmwgkltzshrksspzmzerowruekljyqpswsszjsezuidkrgbuihiryaakhlwooerruscoapuqlphlwdrodqwfzgunswsfeokzjeruwdschggupgmbhnvphhanwlnrpdjvvpprppvgzeswmrjvbwabyopnbqpzwgwxnrymdxafqdbmxhvaastrbqofxmbkzvxbebmeufbdjqagilmklykdkaorpwocseldacdiqipaynwkerodqhknlmcrfajviwqpwnwnjzwqqrffcfqokgkegtncswpomywtcawykmfolihngkcycbzgwpdlxhjsrwcmeuuxgsenhjgivacnysexcrjfsuxguuchlozghbizgzjmmhfaglkinrzdbanssiulgajbpeermbbgnswdfzajsifozcocfzvfnymollrjjdjtrnvbnielmoztlvnxtzcllzeypnkyhohzktxfcuxixhtgqxhxcupaqjfglkazxjhkfoxonsmqtcmxymkkroxrfdfjtkravdizsvvvjzlolkkbuqqppldvktzfefwzcehfaxzdgjxertmztmgqavmgvzexabesjzgbgaikhfwxbmlpjdwapnrzckurksdwebyyckrqbqyxrmytrwylsbodhrbqblnusbxolgmwcinwumteneuhkjbbrphtwpthjjnaxvhoklemxgpsbavsrqmigalwcurftmwgcvxxixhqictnjgpkbcweevcmnyywpigyxsnlkekngpriksyqvfbeqcellxfrcfqesedntjowrutzlwbroxipprtdhtuqwhzjmajiqqpzndfdugfwbenmuqepyemkdjlpmloqooujyzhmmzqymorzhblvxncjammmdthywjtedznqdrxgqmlfrklksulembjqflpegbceicmfrbxvvsosdlbxwdksdkpgvrcvpqfahyqnycuzciwfcryccubdhxcpdzusfxzixcgdvqpbwbklanpzmnocbzmfqggcpkjftdljnhbazvypqjfapppsdevfgafiyfhslqzwwymgpfgfoogkileyudbixbuptcoggwzotnbakoepsbkawmsonspwhyvcxhrbvhjgvmvyoxlbmtacbwsotnsaqfsmbsccrnjtytnacmebctiklkkpbkmetklfncmderxuffrrpipxrtnjirafwfoswbgezljynlgknzlnatasqkphrhxmxqrzqzduppmmclbahqstvtuwyfsbvghtbfiilcxmjliiytikzhqjzouwghzugraltzalirmdmborxazixpzmttztgpdwivntkrxfswzcievorijrsepxsbtscouykhofdyujqzcqesherwlutgpsvwsuchgqnprizngjctbeqmxgfugndsrmsnsukvqdsifqetnxejmvvpwcdfntsdamjpdcffanymkzowqtvamaaxbzftfvtpacnvexqsukmzknwlaipcfpgtsedgwrdifhfhgtcoepkqfkfgvcmaypxqqfsdjiclmdnanzjzrllcpnjfrwwsufgoysxsbafbanfuprcckeankridhbvqnpvhdjhdbiijsrxfbeqfpcbvoewrsjbfkyrcvqioskcrkopjpjjpunzhscecwptkqhcpffzznwkhgtyvkseqyyoqmlagcjqkeqvdubkwexcpqeaomieknmcvjniebryykouesatwlkrkzpdcylfdfifzzlslyrxmwgwobysowdhuhttupkuhrlxrzwukwbjvtjjeofwnbzbtjbmruwqilebpunsqgulsnfvemzhjwhreydkzgopqyzthxtgsseegmvypydjaxrkjlbjyxejxfaytjbvdrxowvnnjaippwodcmtsgurxytcymfrrhwjbqaoevxipbbsurxirgxxkjkarolwoxnidkutuschuxjeaqmaolixdhiluvchdojscckaiepokdriihubzywsbngarlqvvqufkbqqlbhqgwtlbpozgemqikuifiwcmutgmbrrvfoptiqahprhbyxyqdlhfaeoadebfvwmajfimkawtrvlticwloelrfegldqbfltlgmxundhnhrnfnktaporavkydqxkrcxlrzkxpfbssvlzwgwsknrlsyhxmchkalcyguvrbwrhneecsdridbbdnowdqhmvdecpucwzsnagyypqzhzburucedgazcygvmxxszlunldrdfgwgcsmqwsrlqividkcharfzriidmraaikvahaxcvxjemxuxjpoplikrycsnasythaeployplmirljzkzvbrsesekscowfqnzijfflpecwjlempkckjmfclghpuseuhaqbvdbhivnuhxkwohiihmzjhwqhjkfmnkjicjwhzgvjstsnpjwohwhhnmaspsnhhscrxoyfuogvckllcabaakrruydpvkgevjifmfkwwpueqhcqyggopwwlgcagwekewbalwhgskavsjitsqjrbafcsjnqubskhtvatnbhluutnbwfjfawwfpyqjgseqnammvafeonlksnvbsjrxmrbvgsawqkoedcpenoxcwgctdoanscdhzbokvglgashcbazkvvffacrnbogeiutotifiaqygmvcimicazbjkzwttaivjmnepyujxtfqvhmynnruovnnrauvdzbjilhsnbewhwexdyvaedkxoedlepfmqphkfoaruhvnqridtycohpnmcxcuioaqtgtqyubaxhllclhnknsxjwymvxtxnbsmyqqciumlpyakvoywbmcfxvjexrxwjdsucygsjtsfftnbtputrccayawrdvwbkqphlrfefwuegwomavffmdvshlzpdtnjeevnggwvkzfgzzgncdlnztschkvinrcarikdfwzdahpvassqqezvzepqieebpdxjaqqnfgddbhmiapdvwvkchcckxndfvqggtkzhobefydxxllnuofzezqxaqrtsqqobwgjppzuoxfiztdsnewehlndeyiggostvottywotradwzbpjokxxkqdhgpeswpvmwidqicxwipspidpzakeoevehozxzulbdulsplnmpjkowtqpkvnqaydsyskdqjaljimomxitrsdewlbcznvviquoqoayroiwpuksdxwwdqurppxndcuizsobxqrppshbkheeufkzbmpvcbzfkslozjoikigvbqwvmitdpnkjzltvycedtcaexctmqtclywwoxcdqobymgxkkpszpipjlsiszwpombenbqaorccrltkszdkiqqkcjqaoaiisxmczarqzcecnepsjizwyxunbevlxijpxyvvdvumdhouqhforcmhdwfwwdyhafxkhnjxpmandanpwlaqahuxclxckkilefnyopcytmaabwwzbmijaxlpgsyohanoiuoidmngosxfwtmluhnpqjngwtmdallbgizmgdjevjswlfykzkkyxuibmydfwcljrxgepqpzfykwqvbnibdbrffslbdliiciookbdznkbtkncrakqhmpbvpktxfobfmkvoqszlqncznfjlgblwryyqyczxctztzvkdrathuglixagdtlqoawzxxmozdqsyjvlqohbdugkgcjorlxskhfvplajjnwqbppgxaixnwvzppzgevlghrdstpsgtouribvepydaaaztduelmltehnmcngrqgdylbhpleuzjagwmukuphdbehwecfcrnvralzwyokxkharyywhrhwdyckblrahppfezxbxzhulokvzgdaxyigfimxucbtlntjkixodzgzeqtxighwuaynjgezkmlvcbshyemiqlklgeuqrfegflxasnmmccqqjogygbonphcoebtecvhmdssyzbikaikdelnudkhzmtysvuuudkmgnjrzlqntekmpvqzumzoufyxasxzrfryvnozrcpyjxyeggazxjrkrocwkkccwtfmdnqsmdprbkjlblzmnrlvnfjjmaggkjuuhfjewwzshoqhokwjpbiltpkwxjsywdrhfacmalumjneumbtltgyffksutqiqhdjmyphudnatjmdztyfzpitlnneukgcqazqiskycbouoiclxujnvjoghtfhukwfteowzzpmplxraqixnvomajxauutbhaeqpobfibbrzzuxgiahofcmrcbeeduttgbdfjubjzjrmcbjexkvtcntwrjrykqtmqzmeekgxflcqrnmnyrthxqnvtybuutybvefihdjbldhivyqolphelnuxvvnucpuabormyjxgvmarkhckcdlluzutdwkjbpoldvkoyosctpcmgasmntxiybzkqogztogshgbpivvirgzqbpsxpjbhydibbcwsqnfsuceriapizjbqwxhlyuaftggipzmlkslwfomulyphiiwgexyuxxisrowxywrklrolslxtyisqzhtlmubnzgefhnknypsfujyknhpspygbtphemzllteltntxknppfknwexuymzzymziswqcklcmbtzrdcoixtfidrfosxeozsqqznadviyildwvxrxnmoiebjoajdtrkvowtgyipruhnedziqpahwrucmtjnmpwxmzcwpzeqzpywsrxjxbuivuyicdubxmvmnqicsljulleffuozdmzdqcuvkdnkobuteawdkuafsyemejlujubkidfuhyjadewchbbapyzbmicbpfacwjolbgtvbapuoxfuvdiwvijnimkusiwohlirhzpwpprkhedkqpvfrhpvjxhckyltesdkazaejvdmlocdlnygibrvcdselkgzigoeszhwfycpwxewjyjyiphbigxinltyyqpkhuxpuvcipbjduxzbsxanekcrpnlhhhnmieifaxszugcvqpoeojzsjbpjkmwpjbmegianrfynjhhjigpmgpaccavwdifnljiscvobcsoqkshdbcbplisyydkuwhlophnioeqndueqprnqyeaclrdfpzepnmvxbfcjjurwhcstdefqrttlpquyxmgzwicpasquexoawqnnaljxjosufdoozxqvavoskcwdekgxelarbjtcybovzsspgsgyldbxrxxiujgugxevlkfslhagcvqcxaapdfbsswwloitpstnbebkmiyccqkgrvxkgaihtcsjmgcfemsnrslksyyzbdqlnymkuwxqelqzedurtnvobwiomkucabtrvbupnhyeddyaplltvtzdrjcyfbmtflbtsifprqgidywxlphhxrnrfiqcywuxifptfibqrcudjgaprjoqyfhsexamdszenyxuqbpgoyqzmnbdumxoooykqfrrhmguvnosincgfsaqkhpunuxvalekhoslynqyrlsiegpgfqtlcsrahpxsmysvucyfxagckjmztvayapqdzkjlnwyvgcqieozqkxyfbsmkopowavfljirpbtlopwszqjdjninwqprmkdqxmhwyazaszxhgrzyxxvmocieqkkpcckwwnwcidoodrfzmabmhpurvsztmvvmueataelpookydcimkqlquupeukcujyhmphnxcyaqbpjsrdahnaumfhrtmooskredmuukqsymegudshritwlosrmftjdamqvkyxupngfqvjphnjinmtlxbgconxfwnrvsuwkdllokibuxbzavvfuggfrlhfofatqdzwqjbenbdtjdseihmxtmrjauahxkdloujxboobjxrrshjnzirxannqhmnrenrezgnoqzinwaqixxlfjdvqamhfjdhnjmujxifiljytfxdutqwhznmeaiaghkyekdavkirzceamgkswmmxgqtytdpebkynqieiysefstzcujpdrumrfqzwuoqqefzjoswkzrmdgahxxieurchlngnathdclfbosxcshyrrghlpypaqfyuilprwxnvkpqmrpgcpmgrierrxheqpalxwjscugptsmrnhkztxnwpguraxuzjhuoghndwpglgpxwrzkkqqmmqzqmsobqhixvexaahvjxruvkujeumgbgopdeqhhpjritmzfrfgnvidamtffatwvqocgxjiwgrjbziofzsnoylwtntjnatsofqyfzmboejvyzrbwvrzeupzynzmzbedavdnrsaaqivvswymshlrfyhkialgmhoyvvwjzfsfzineakvdtrzjpqwjjctwvjdheizwnkngkospwsesfdpnytziufrkvakowhuowrgkqvensnmblzbdohhqwazyngtpwxxdvmxjojicnsgmhrobohjowfjbqyphjwwmkqbkqjtalljcachmdleiznaknlagwmljvpdrgkwxabyjzbejbaveqbqbppxyojaoaugmwsvsnuqcucrlmrylwgttvljytbupgggwarqfqwvvlbgjjcaiidgrjjddbctbdwpzwhbezfllppsqyqhrbxmfshjohzauwwkefvlqzebwhkoyjgtmzkqgqxgwlrvtmjnwbdueukouyqadicypaplrurephnhkbhozrrfdlojqejbtigmhzlhsucanqiywayiaosyvdzangeeraupylzosryaomoskowjbwhnvzwlharnxtfjhbwpekyazueavntajmvhjezpsjgguuykokipdnvwsxggavhzrroyzdzlokgtckqnxmriscnkilythzzpowmgynifuvfpeklgdtnkffrhgjdajqoarpsncbagdttiwdvnxconghveenivlbsxsklehisovbfrmxwcwiiaqnojeqkaaynpbduagwwtrqvyjlwpsmxntmmcvhnykbhmirrisuqjxjhtkicksccrpippjrsaomnmzupopdzbiwsmulkltgajmnupingiqkwwovljayztlyetrthlshdmzfbienlvvdsuplbjnpvttbdghcbpbsfdbssmnuwiavymjfoarfocbhsazwqgqhhjmtxnzelyozvdywjllzqaxanvkifbjcoxjkyhvspdneyeydnknckdsaoydqkuismmidmuvrkklpkbqkqffcivznilypekjspzyeihjbmixllazcplexpgdlkqmsgqcakewfisqkmwdilbnljtmfxbkzpfheyxabeppnpxvsbodujrretcyxbwptlfisgqyvtuxidhnbpiexhviynkjufniegrqsagxnahaovknyrisslxammhilybpqmfsppafffiowwcthxwkvaabznfjmlycyndrbnmofjpjqkuwfmsrdivuxlzjsoudujkxowjtrxhyehrpltbprjbavtqafazeatnhzibkhjwywqqkobcmshypaqbseyhxqnnxkznqknvgsfasurfbpfhcijukdkswzdmlhwcqtzyxmircvfefwzabumkqckmrskkpshlwaabhsljmashgbexmutzviizwynnxqmvrzzrtnceetriamhrtmqjcerxpqgawjkxvypgbcffxhyksztptltjkyiaodikpjdbehtkpmcbkcmckmqatmjwpqfxkplmmcvlmaffxdwfualawaflwesqhykxuvtuehmlpngmssyvvpzbjpfxsejwpplluhznziescxpdwgehftyrtftopenjtugffvgxirwfrskcblgfiuydzckztttujozyrhhraxgffrsdgayhawolrwwtjjbcjoqwomalyqqviwqzbcpavvuzrefthewtltupzbdmruwkchssdndxhprhfqpnibsphfmzowqwnbwxjrvqzlewuqexczmomtraclmgezthrlpiqqjsccvxldmqvbiemlhyrufnzezlixebddlzjvgianpzfjikxezyueomzyfvbpvzhrtrwoemzcryxdlnsanflutztfqvmwkrugwclenswjieuikfdaxynitbfiowdxuymwmtskllveqshikqcjlcpztfvtopntpdbidvorgjcjpkhbysoafhsgjptfbuctawwstscqowiylwjwqqapanbcqqqlhzfgtnxfedkthharkbpygxbamdkeurxnrhwghfimxqozavoqhxrgkxujygamcyeftmuxibakxfydxkesmasriubqwxqwpvdnfutewfqpctyvuygaxpprgocdekmthizezygefcrtxnyvicuazlgrqsmqzithzgugdmlcrcnatjqsrkvuawooedwgcqmedwuoeexqnwvbsiyvvljvsttatzqehntrrlavkvjhnhmfnieypgauyhunmyqsnxsrwacalmflfwzusmwhuvfoazonyqefhhlfofdkesuebxztscyuffwnlzdnzquistjaqcrasgiudqetweplsipynnkynikphmgkcizdjdaspyosfshzgffrjjforddxtjofqoegrgsrtdlabsyqpwvlundyzsaayzjpbosnttelhtmpgvofpieogrvzzxjtvpvsksztcmhxqnbinrjqsogsoudrltfzahumsqaqcezkozidlcqwnihywfzbrzpjrabldzzftorghhuufvajfgkhwtgcgzpfzscljihyfqdutwydtokngtiqsmarbtbgenwolttfpbginhjujvbnyfnxotlrsptnsfkacvhspnqicdwdnieqbsorxcdjedctkksfcjsdhaeanrmkznzjzanncedrkqlndoztzfsskmlpyaxhapwdvgxtkfrlperihqnmpuqybkcxjfrvelawzwzfugoxjgzhydgagofygynljnkqoggeygpukkzszusgvjsoshibtjfmocsszbraypcvwonlxitarbsyxhifvistsauyvujiycgkzgqlumidaiwjdwtzsdhaqovlfbmgvbjqgglaohfnkxccyiwzymblqowcfzwzdeotbeipnrpcmjglcupgukoqcpyrfawmrwmlpjnjgdwdagacecofyrioaaxyjtpeelnxfpzdauaudauphhbrlaldeybohhhdidnawdxkxmtprkcaofdkuglzioklmiksgoylryiciuubcihppzdgxzatowaoytyqjfbgoctndgovhrfnyxhvjfqplccqqmxpavecgblvbywspkpabjvqoecmqywgibdystvqiqhxagwwplmdtnxcxettgtagtreievgovcrepuykhsshuwxyjvwmaoykkibvymppownufhxiaurxgswygjrhxxcsdtjhdohfukrnrnehgjzljxordnoabguhcspjfipucejqpfxgehkukymvoowfhjprfuzcgplfdhcfckirusovnwdehqdvstvxjxxtathtcfiwlrxhvbkwdmybmuizdcijzitcsfxdgizndlexyxatowhwlyotfimcfutkbsqtzyfeparxqgabwttiaapjqumsehwtjvklizyxfdpmtlifzmyiwjsakytfixceidbwknoppdwcdcgcrngxkepanxhkycskczsrpdfdjyjbcxvrzjhlsupvkzhnkytztoccujgknajhvjjawnkkjtvgenlvdgjcqgciglqyocbexuvuqcpywlmywxblrgdskapnybfdraeewnyjvbujhibcuukavatviqbwlicbzucqqcjoklytnkdzkbcapripalfmqrmzcsenpowgghdpascnwyhrcorndksufsenzppqmysgpkrnvrooznwlmhxjnlqazowxqpeaamsygdmlluykfcynttbvitunmxmhildiwgxrkeccsybdxwskatxlszavgbqqdmnwbgowbyxqceffyimzysfcxngocvcxjgwavmqoevcxymgcolawhlcsdvyrkucguikuyabljfiuqlhfbslnqgcvjzrnfiixdevrosgambybtzzgggejlznvstyvquzjlotwflxafvdruozuaczankhzdwkvtqncmthlpkztkaoctjhrtafrtvtftotmwubjzjtzkkoxtffhpxmcwycaizvcmobazyxkpvfwgeixkuviyzbczrmyxmkivlcrxkbvdchnkyzfgwvyouxztxkafhntzjfejdkgarwgwczjrvapnepunfqrswhaamhozvhkjweunjgcbzcjyiwlxshjymmpiixyrjgjragaguymcgrwunglmwthfmfinrpordguiwahdgvcndtumwpztdwultzqrohjvsrfsodiexharognebitpfvzvcazwmtidcqkhnnpllyynnqjjmfetrxnlkfrkwwcqjsmxopkbyxckfevgejdkzqpravmuvkpctqdbsykcoihlyzdeyqpoimpjcjvmadficxlrpxdsspbeoejletbkchnhyekyopbdiqjcyteybzpaiinnbvilfekbrtcmkispjipbgquvrbwvguyebdhzvngrriwdkfcohtzuzndmjkwsyavxjrbgwwuksuavxqxmfoxkvspsipckmiipfzkeciobarcdksxexorioweewbzyjpbfmwuasewezdfutbfsbatwkgmdhixussofvpkytqhcsewykxjebiydvyhcqkjrtrkktaqpktembzhywfsihjipcqbgniofyvavydpkozpiqdckzcelaffinjvnygztaradcrwwssjidlrebbnxotvfwdnmgehuierlkxjllkvyoclfatvcfuhkwljbsnbpqkmpeykjhtcklsbijhplrqszbeesbsuxynmyaezjeyxxhgpszqsmerqqrluhmnsxfthyxfwgwdbjrjrvappoebkrenbteoqmwynhmokuoakynroeecvtfuicstnzrmqbagvcumhevhpxchugncyzatlbrrsjhvgegeneflkqvsdstfkgfkfruncpgnkepnalcsmlqinogzbyktwhxxztbuzxyduqdznvxkpsdkfvakjwogsjixswljaldurhrkfdzewmvuixgkqrogtdpksvxrkwmjcvhshfmhggvjtomqrtctiysbsjpigwzxhurfzlmbfprmdnbyqtdswpntfjdfsbkhaqlzfiyditbgnnkdmdnustjhbgpsipqlsebehtkiwyetvltnypxknaoxubnigmbyxaompxynqrmysabzmlwtumfkrjoeuyclpsggglfkaduhnhakluqbgvtarzzzdznukeqkaspdyhrkleiddeafthxqfjgymcrraqcicpbpyrfmamedjqalnrjctumevzxkjfypiuupdhnpdombrcaxvxbfcfbgjekwgzfvybxmyejgtqqupclcpbzzalhmgiygyqfncqpnctnakiffnzqlmocfsohhjrvyqhogdhpuaamxtdygfnduuckjbfejupefjppwhtbqjavvreopwfhrlcwwltckhoywvphhfrpuqqcnjaunkqbeagkxbbqbviljwgzipybgavsbljkmyqoqolxirwhdlahmjnvinjnefrubxhqujarjkmfykuggcrxhxnwlaxycxmwxfwqcbvqkirwrndyqytthnqkxfjdrourigbwcepvpnbsojxcvpcyhhhqtzkxuegdxjxqsftyckmrxqywsqnqzjtpuzxlpwchfwmjrgfszkuoynsmmicrtttfjvbsxereqpzcipkpkljgysenxsqtoiualpdwivxdfmvearmozserupdiqciznrvkbfhzreinngivjymafriavjeyfkabfffqwgvgmmwehlctiglpfrhqekglmlirfydzljqjndhsdzaerrzdpjgftkbwhxmsetkcsqaohmodjpnpmxqeufzwlstshowhjehyaaeqdlckmyzmppfvrksoxrzgcxyhvmgcydekgmebocxdhnnzqkcwgtsehtepxeucdqtyaawwnbqbwlmxaovpxktuhyyfqgaxjvfofyacixhkyhnwttwabtpauewzoklgipavnknlsariaqdlmkqqasepxzmexsbejqbkkbhxhavfgoqrmzwcaffrhededekvtqtusitxasrrkhvsxwuyqtcyjnqaemyghotxmwjlimzkktqciawjkgjdigyiemlscrptmwjvrtlhkdpczxsflijpnmujtietoofpuqwyokvpzwryolgrctluxiuxuipwohocfwsvtcadhrmpjtzipumqvmouhfzfbmnptwjjqicdglzgksbhwgjztftrwdnihmhxanlstohprdnilhjgyebtzdouhhogxhpfgctihgbemlvqcwdrezckwfthbgzqeyfpkunmemdoekivieudckqpqneocvhnaizmkcvigyfkxteiughjxzjscnijifeaidysqukrhdoptxoojhgxjnbtwicxqshtesvbtmqvtmqcfiuxxdkidbjrsovgvqhtlyjisphbznqhytepcwoagxghbijdkiucbanswpzvvsfgtowwglpbvbnucneyqynkagyssqidrprbbxdqdylccqrafnlfwyorhqpqztnmwilbwgjouloycicvtfevawlyqwskvfvpdtaukojyfmtdzqpmdwexphftimhjfkazmootlfploepytokfemoypgxvhortdkmfnwwoahmgtkzzmotcieqivdvwwhjrierwqjyswvwdzytpifkrkvdkwrymyjrdgjemhdcjiifrnengqjrppmlofkzatpixzivkgbsyqxwjnkwtnlrshefjqxldloeoxspktebficyqpfquwceqmpdxqhzrgxncpaswpsmjnwjlsbvicdhrgoetniwczmkqevbbpbjnqnvokjfrhwdlmnfuryifxonxozdvfdyknvnofkwwubkjqozualmmierexlnhhpdtygbspaeeuhuwjwxtlzrgcqxwtocogqovasgmdyyanxwmxpksrzfnzkxyukfdadldstgrwfuamswwagqvviaaohbfayjgzqlhwirtsatpgiojpukxgvpdosujzngbfmfjllhrrijfvidgyhkmxghxphadllkojqcnxvdskagbpcmewgtzhwbustqadnztqrahozaljxulnposcegqtxjyipemzltcmflwucrbkxwgicrlxuzokvwilzcquihflwfcbhwvyuzoccpyrfjiytxpkvbufxyykyihsetoakkazxtuljxlmivaoenjskswhibnmvupjneeeedpqyquivblelsvxuqzkcasojzvqecshxljdaqwdefrtzwbetpmgcbpanuqdirqiuvfmrsuoaqpjozhffprpvckgzrieipyolsnzoroyxtxlzvwovzwloqryngmxzowkiqtjaykpnwhktjesevzxdhupkwsayegbzyiliiilnencwixjlxcphmayztozlnuwznlefconheepsojsnsxqvmncwcdctsznyqdgmsmxkphvwdwpmyotpjzzmigokudyqmkznwjfmqflbbfshdefjdrgftmxfopmtsjanjdpvbacokiwenkbsbtulkfkwdzblsuigxeftbixkfxjefwatuwnyihxmshmbsicnghilnvkxucjwrqyhjygncmsfozmxqinglbvbncmgptqkjdgdyurgsjseprcmvjoxxoefelxrfbcxvpkeunkckrlefvxhltcxkzeorlratacjwkfihdaugrveqfvdvnimxjhkymnyxncynuteoprgpsrkqfpgckmahkrieifxjuiyjdnayrrppxdatbblrjyynfjwexjcohzqcoevlyzihumccidiaocggpgjjgjaipxyylsqyxxavmjrckomllaavjkwvlrslpamkmzximebjpsozckzyoarwygmohkisnzafdedlpffruarblmszfcaoxrnjbvklqbshsushrncnpcmgnvwnjrhbnyvhahhgkmtnougpubkykhfhatiszycrszwaxashljzxpbfgcqdsrgztldihuurpvourdcrwbdoukpcizrizwwudicqusmpuaigjoddiazbvldyvxytokpvntplrkdaygusmrscnapvqgnmykavmemaljljbawnpctkxvwafooosjeoxmishuqqpearlyqmtogabxrepbohzlnckdjzoelcevhlhterwlkvosbcxsaiwfpatxriwuwtznhhrykldlxqpvhjwyssvetobuhkvyqqbiohdnozxukspjvcksmbchqbjsyeqpdkhxxvbxvjxkpwwrcyiimtlauaxfyuvtaldhvinftygkyszherividtngjkbrrzsdvomwivmmgrizzjudgnrhkivzfpyfuzpyekoiygorgijofjfazjpvfkxouboymzifipxzrpycwifvijnvytetngzbnsgmnnoyfirarzshoibciefjxmzgrtvmasrmcnxnxjeprvtlmssgsxpchxqesdtxcqsrgfkpufqhhjlibankbanwmsewaavinqebsahrtffqcitxdgsblnasjahtzujnkqpnvxqjbloxvzzeombdnqozdhrpojnvzippvampzjkwiuqzpplyerfitxofmzswaksuxtxyyrkeunolzrtpqgtdwvdibvhotsnizfmxwrykovkxmlyggxwmdtgeefaetyxwljublvdfttusykqkrttxmazfetbmqhmkrqkxvqwwlsdfuauiynutczysvwgzswfvosfwaifdyckketziampsdgoszogoeonzuvmnueahiwmyeleircfhckqkanjukizqetafxkhzxhngjawvyynmfevaltkigmgebeihjfmuxszaetfopzebgsxiscpbkaltbkltzmfjbznszrrsoaetfwpmjyuxvmikdalqnqkvwsocfpevrpnlkzgvdscwdgvrbrlrkuaroatpgsfcuzkrqtbnarwrfmhfliokrdpxqrzddpqfyyhptllahcgznkngewuodhharcglwhhflzvwdbxnzhqjwnrohgoerxedehxvtcmstcpqyuzzhswmezwkrcozhkkbkirpalhlywccfcceidsdnrcvqzarehlqswxldhzogpvsqrmuncfwilnfvazibviezihdntxnqsqetqgrolasfhdeduuarswwcbonlcwcprnjfqgfmgrasaypwtehnlqdjoukmzggptkrhgkronwmbpfdzjyihgugpcuoelyaweujiosekbvmzcmnojryrbymqtktlvkgnedqlipwsrekuqujorymtcjupreuczwwmdqyxabbtisxoqgwfrstngijjwsgympxkmrjlyjjpnvtywzzbjliqmreuciegbdxaxftgonumxizjwohhvynovzewfuerbwbupvpwtyulsypcejkjfaszohtwowjvjtunfrcoavejvtlvltngbkbxnrvthlqrvezcjweghyysgsmjejwnpbufqnbwkgazlkhqkvlhgekncetkkkmvejxdebcwsuxpbvzlnbcwwyemjnuvdjadacvpsynawzijgrzruptiwhmyuhrdwlbldulhtuqyrvttslfksszdlhzlcwngsafzzlcafrojtdbwadvrjivzsszrwyrduxjgpzjwvbbyfaktpefnxclzdrxtojokcambkefjowyisdjvliehypznlpegnvumcugikcyncegioqetauihaluinovnmrgudqkzujehwclwfmvnahvwfwthotdkpzcxvmlrttcmutvaxawwukndftaaoujdgqrerioxzzyhmorlicyxpnikcjpureesecuqfsqkanalvlmgxpewzljcjzrrjonrlqkqfjrlxjbojeepeivjesvhldvetgzvbthnmtznhpakjkocqcaazjwwxeevxltqqwvcfkjqayzxfziwcpqvedutskdwvjabfslbmyqhiwgqjtbzdtbrebrbcamqhdnirjzzgngjtpptrygieatxszptqowoftgsehpuaoxakmguyfubzmfiqtcgghcvzuslwziqloykanaycraiazrspwqolumcwsaksvhoulmitzikltpagzmiaofnkwkustwvxyqvtoamubdwqiqyrihfnwogqzzoakvwvnkmasmmqqborgjemqibdctrqigsswhhwmzhawbfqepebiudtetgagdnnvvbsyryflkejtuyxjgzwkddqjawdxctqsdtpphnedlysoeademmcoiumlmncfwqquyywalaqtsxcxtkujhjhyvzjmadtaepxjdhrrptcplukgckozzqdjavpbxknvxyrmvzilbcumenkecpnyyfboybqfmikwknrsdquhuujbyxzfhsirlneixmnuusoqohnaorbfehnhcbrmcuydydgwsikuutbavinoirqozgjrvaotsluwjsxhhnjnibybeunkfeiuqbbwbneavkexkwxhekkeugfrjcamesjiqkycmvydqgcjnekloyxqcipcfiodlecubfkujngesssazvstovxptqhuhnyuahahqbuogkediaqbxiknwuopvsfclvrkfukuhkxkzgdbxbjrqikmecrflvmvrufcinkneappkychhkteemkekalgndchtgrasemlssbdrnemnbtixpbhmsbwgzrjviabrbujqqqhzaolkbrisxsveclzbmgxejyksysdvohwhqfotpkiqeksivdovwtjowxcsoocgqvsuhhijigeutdmmxszcoqqawzsxfsoenzoizpyqtjgwhwdvxzvhkqlhrbvbqrutoutearqucruqsqjdkgepctuyyaynbdycyxjcupfdcwijgslswmintmyazytgpototkmnrndjdafdoavwswyefeoblfnrjvawsmvawwglvroxcjbovujyzsfjbwokwrtjvlokvwqzqisihhqfmawnhsouzbaccnyiyoqnukvsxhvxvnukrarltwskqvgnyqsobtrmmhozklkjyaybfmovpkhzqbankwehopdylvdoktfrqfhcqflmpyadbfbqdlrnxflzsfgiujghfeiihobmdbhuitdtpebiqbyzoflkzadegnwjecdyvmiemtdarygzxulbrocgtrqkmtpnyhfnhgscxngqovinoahqwleyrhmehdfbsomywlawbichlyayobjgrshxycgtnvcfcoutrybebahbpeywrgnmagivwjcflzrmdgxlwauvjlzezmmhpdsltgoikthnnolngiauvxgwdokupdmfowlrvjarskwdwrfeqjdswlrxnvfemrbnnsbbwsykskebesgkvrwctkyvbbupeqgmguueponvhefonarvbdtsmkyieeppgzqdrnvxcatphbkpihfqdpiuafhdhoyprpaysoassofizmkwckwivphiwtcbxeqmqpvfzbhawnpaxvspygsocmgfbewtsqphrphbdjwelaoejzojcwpluqamxzucnblzmaviingfzwiqxzdxnsgnndukehmzzdcdxycidomuxqgwyktuhuptosxoknnnpptvqpmkjnqhlnpmfsgfyoufzilhvuzxbrjwdgmggmtyhyxtvufkpzfctsdoocwywuhaqjhvpmzxdanzutwfvplfrzqxldsaxtrhliawupskroooybxuyqvpzvoewdufvnfupzcqwsedggttnvepkkbpnbmvvcehjqlgeeiauoseakkyztosvkebbdikexcwbigyprxrurfywufrdikjplyzufkjueatpzylmorouehsxzjbptyjhdafokabzsfcldxwfaputvyboxmndppagysmhygwtsrccfziwtqqbritupogiebmltngwbzohvwgpeenrxvlgekrrzxacvdxuwzzlwfvdnekdvcfxdspomcvfkkbjljinfafyotfsmwtoevjgwuovtfzgapterdoemcnehyoncenkusugvbhrtsiolpvkbzxnwsvsjfmdzhcdajoaqpwtfzlpbivrhosxvxozlipsbcsrotlvhjxkehgrejmcfpsecbtslmmqcictvowoklpxdentdjqapiptaezfldjeypmjhfgsmyfqulfnxpoizaodhffaaefvwaaltvcwwxnkvmczsnliytmkxzjrooitcycddivozksbmnyvjhirbepfakosiziyilmdlojcieiwqkszlkptlyodqafdxvtulmuzbcpkzpiipzgtexrhivcecakelkmlsjeuldcwayhvjdamlimcvvidepexvedfxylqmhyjzbmitdowytdsafshwoubywdzriultwnpcyteqcrynupngvwvpumpbnvyekiojwsrznpompipvhciziitnajrbnbeiyhvovjxslpqsfcwozkwbscquwcuvxettohbdkvyhavjjrquveoyhothnpocebbrmxeuktvokdufmsduwwaroyzilvtcqluzwhsfnnnpzcnpnyufxxhvembgrrhrcylgkkfivphdfpktjaregkswnwnnwoahjnzdfioarodsuhygogmdinzlhdmhagielvovsasryqqaeukblfhiqwuhxvjxhsufydvncghgrpfcubdgodypcqikfflzfkhjtkjzbvjyszgmpxvlavorcbocxzsztmlsdcrwkntorkpymxvabjxakivymdsfujyrlhyknsjoqcgfelwgxwfmypftdsqeeuqixjdkgajzwrjofldunniisfrkhnepbamrqkuhmsflaplhxkwuxcnwnxetujnjwqiqwvyfhbryykxnwqahqkhwvxgixzxswxekqujsgjgspjldonwftqpdhqtzkajzcjbsmkzcjjbodfjvqcccuuibsficruxutugvcukedjqibvhlaqysjhpayhhzgklddshacklkoxvjhgrlrwvrxiwuuaybkkgeorjigbxswuptzofmwriywstsutwkslfvyrusapzlyajzmkifwlwpgliudltxsowqtdskdbrnpqtwxnaijftmcwabslyoukiiorvvkevxpgyhionmcrobgpdtlgllsidygbrlyqnvundynbffewitgunwhfcujmzxwjcpxlskwegjsupxphxtmwsmpkdedckptvbevkznhgpyopyjfvaembtpumfziaeirhytzknhtynqojrcubsrlucmijsyfosqnhveknsbfaiyqqfxjvexazdccbcjedqaftvwsdiveicestvjtmyveujdmivgvpjeepetgxdzotlrvaxmfcwchvqwidvpctxqjjyyrbdcupuxizgqqsthaizmvrifvhyaocsepohmluiaqdfzqeapbqvygrmcrbmzqdsyjaozmlrtypgecjnclcwkpchscxtcnwhceduqcimzawdllsufhbpyxhnuopxjjkavjqhbbwapqivhxlhoiczwweywsdfvpmlujflcbmozkgwojkjjgzhdqopybmwuoqjirrdtrtamtilaebmmlfxpicbxilzpcnugqmflobtjpupuqhomzntqxzrdjqbcltselofbscpwuprgyudiojjwaobudxyhcrurjzbuyvjtjhbboldbbmyuwtpruudutepmfecnfunixfustlllhbthtzqicokeaeapcoyugdqmgqaymlfybokbnfytgvmiqxjbnpsmizzghxhschicatuveqaxxgahtwshinuamveliusnakgyzpalydpewuwackkjdldohzcnvmqqlzllrlkubawhsdsebvhtunfpldtsuuhtnnkydmaqsyyolwkzghgttgfjxaeamnelmrxazejcagbudkrucjciktrlqkjtmfwjfmsrknphldlobmjfnosbpuyoiuqnlkerymmsubyhfusyxeksvsytsnfonihixwkkjjotilxhmktcjpinjflbjwsdotlolmwlpyrkmialsarnsjniekeuqrmabyaijscgdgjveugjmkggrduupvtclfxwrqovdzohamuelnywzggmfzetqqdymhntfthkmacqsoawkzoiovpxbwzyokaygnpocxmqfrhwsirwqwacmznjqmlowbdrfkbwstmmhujweemgucpwipnmwvwqhmwgrbbcemzvtoflyaajslkshgregrygyoobovsllkxtcndtgduyplchchijwafjajkzgertxmapdklpvlpxjhrerwwjprfbzouireassapzzksmenskngojpweaqdswqnbfxwvseenuqryjfakxpqtshmkakvfgwidbklgypeuwcgoerumzbqprvjaurhqvbmidjhuteqvpfrurenqjjiiyfurktkatrwgsvmslvabvpedeumystqmjycealcxjillqynkkorwuzycpuxudmzwogfshymdwuerooroaklyhjhjbrqxkyeadbziovoglpsbyjligmnfjtcjdmqheeqodlikzhmbaknyeiargyhglotpiclqcuspeflccojbhnfulvzsbnxlsgpeuxtruxvxxibmjiwjignxdykuakqwfgxpezgsndqgrqhilqndgnjsnoojqfrtjildnfujjrrpnhuybfbmoilvqdwafjrzyvfutphosqovjdlkdkjlunebcxkhqdcqqqzzjmfhrmyrzdmsowgndnbzqcecebeyvbrybbfremyszanraitjdpviwfcphbnoskhzmvixarjdgdgqpcseplxsrbtritvazmumlkzrixfrptlcpowfdsmjbffycrzhlfcjivmearmbxfvvgojhyzxqlxrnznrzomtenpyayfbodqxveenotrwmkvcjwteueuhocxyroddzewwwutepmiejgyjsdgdvnegbqvcfoyqtyknvluqnicycnpytvausuicghzcezdkhugwgguguesgvupiqpsxulqhvtarbsqubcsuwowtcwfddummrtnocdglssrnukxjsklbjfkqfuqhyujncrayhwnmpxecprigtzonfqgheoyfcklututibmhbkzwngoidkzlxodlqhfjwlxkumkpbtsibzqhwindloemptlcygbnzvlvulaqdzeqorsmhjcanwrcexssnbahvnvrwittnexzgumkqqarnplpucnjaqdqtllthhgatqxmjiqxvyihukuuyrdoohfztntjdtplyeiskyldwihiqwmtyixcuwrginbpieyvrmbmvpqmdelmljhtyxzonolqyfznasitcsghvpcnhbcrlotzkcsltdxihfgzpaftahzebyjjmjqsvmwuqpolaqhprfsdmobeqfzlfnlxuxpgwggktlpjuqytmtdrwbkalviqvrjhbdgzbsorinyvncupusgrjjvpfmsxyausgakfzyrswwlvdetrwdocowocejsfdqwxdfmzadlbpjxawcsgvhtnqhbejwodqoutlmqslidrpxfoxznupckzhgekwbunnquvbhgdpdsnnaxowiyrjmfzhsvbqvczoloyupdexdwjunslhsonluqveclfgmfwxsrbgkkponvzmxfdeobubiszugniutvbvomocvzmpxjybcoohalazyjaapolpqignwpwfcmekfqzfwqsslqmlfmakirzjqaeimpklrkofoiakqwyusmvuhfrpxrklxjufkhpuppxtpmbfcpkmhwqdhylzyouxdumdlghhgwyquhbcvhtupphtybckvkdccditfsbvcaqmbiwyfkbzbxfvosceohxfoprioprwbqzqpztsqwaptlpdzyrkoyjklxwgferwrmlcbszyahascvdnplnpfdkkjllxnaiqgomivusqxbbpwhfozlddnsefxswxalokrncrnhuizabfpiezxwdgtfrvtbypgyufxuyqnhwvljhvoiqkbmjrtftnvgizdzufekdtbjqxfbvdwudvjyboararsvnpewcbdxfiqhfiycydzsnbdgemzgnyyvbwriwqgqcrxzgfqtjoqxjxqlyxsyzokggovclwaiymivzaqjlglqgkxeahgvurpzflhemarjwwjnebsvxkthribdcxmzhlpaynfrznldaxdnhatkmgtzponkkmofjorceddseaeohnljaooezyllnmjqoszteauyknjcyazpiiglxckgagraofytvexzsvcbobnmfbfalcvptpqcqltnvwnxryijlnynllwgctagqjjgylproweqlamvafthnceguscoojohgrwsccftbvoxhxanpnqjbnzytvfwwxzuprcujdfhzwnxeegjwzitxnnjkxaodidjiynsgezctbjdlbsfhuuhkqyrybksovcfaimxtajqmgoawquijtolzwhfyqqofbdoufdvavijqxggstfcgumehdvwzqzqkgcsnjkwgjkpazbpmbjtoionaqigprwrwjbcsqwzjytvzotnzzxjufpamefsbzkrivbwzczbuhzzkkwyyrsamxgswmrzgnbqcmrrgjgooqhsaozhqifvmtbfnirqpjqvzxaoncrgkrvjheulhzdzllqagarmunlkgrxpmiazqobfkmjnlmddjdtmxbcgcutpxjuawxhwxxmdplmneskxxfakubijqzqbggzytmjhsjnqmklexhumdiozjwfinjetjtnmyqojscpxgoljealkszctgewaqaqmwtjfpgakllsspkthymfpxqpahljuglysjppnzlzlprkuoomeoyhessxkxoenxfidpwfgjdhcfztafvjfnapbqnugjqfiubnnqamzudcrlhevsxggefimzwqstsbbwgblzkidtskdmdkolcfrumpbfxyzavpekuaimsxbcrcsskanvyvfqlsbizziytofqwauxzyhvrkiqgtatiozzoewhhzordvdegsdrxuuzqxelogvwludbhkxqpzjtzqwunhrsyxyysaswtnkvopykuiudogjadeljlegjxcnsyonmsjekfsyptbdrrjooiohdcoadiufcvjnjopkamtazufyodobxlwigawvqwmocwbisxtkjddbyrfpxatorolozcicsfwiaeksexiasaecsybkkofmvbkipepzelyfpxajqolardrklgnxgowptuwtxbqhqunpgynilvhusxkacdrxteqxtpuxvvxaapgqpdfjakwchklrclxnyblhfqonmodihjfnipfoqijwruivsiiqmbgklcmfyshsgtcovaxwqfmiwhfkavgvfwiiefoaeqidvjlhpxkuumlmuxltzlaoklhszyjzvibqudteugmbsyiuxjmcjsyjoqrkzkdzrexzwufbxzsijsblnnsjfudahmhpdrftelscbbcvlnyblxnmssrkplmosofhidvtpvfvfaethggkrmiubudqtnkvjkiwdsairadgpbnqlcmanynjjjwmjwgdzdejsvmyzadavpttqirdnmqlipcjxxjkhowmajcnlwgxgdndvdykldrsdhhkwkclhlwfrnnuknfqqhvxrewcslieltgoafjfccwjbsxlsyrjivnvxqdesiuptcfpdndkqxogbqdveqpuujguxwvulgocmspyoczbryximqpixefxhjdlrmysmxqhmmooytggpmloprdytiykzptajwefjaimcrlwtroricwxrtewxcwzmmhuscwujrovwjikeebmhbmgyztnsqbqiehvlctpxmdmtquxngfobfzzdrpofrptgwbznjevtczpuougsyxggxupkfeqemihvbktcndxccytykdanjixqtunjzgebpcpmeyxxiqwejlbogivlxaysaztoywwvhbulxkyhahmdtquuegpbzemdpvnixrtehjhogdorwnwtxsknepqoakfrnuoqzpsfokzyprbkxgdqpebiqezoomsgftbrgbzufqwzbspspdeqjchxhxjwbbwkcrrpyagmvugfuuaknpzulwgyzjgzivugieszylhgvhvpvkdvgzsgmjgtxocttthwnopgjkndwvybyltgxhvqmmsuykxkfrvvbxgwnqdypsrlkiabtsnlozdfbbxbcorcgumeqyktrgzymewifobkkidneqwmifjvliokvtsamlpdknajbbubhounrrmerdectrezxkvmynpvnwgvklzwrezrtbjdqrovezeafgtbeaupogspwppilrjwnqaiuyjprmmotnqazznyzhstziavpenbhitngwjbstztmlydgtxaqojdrddendusbehdskjrtuokafdvaqwlnhkxjbgzllzqefhhawlhuxpnvlxxbeqnvcnyqtvppfndopyomsjhylcfhoyhlqkcaesqottidlrhppeuvzhvotgiclscvnmtpcqryhooaeebqbhsnoticezfiqnapbjfxbaeibbexbwuclhqchxbrxqadiepasdfyskriexeczufpufuohurevamgiketyxuatzfpzrihsllsxphyizgxhnrygpqjfdynqyyfdehkwejkmrevwpbktvplbmaozbfnyzzqvidomozxeybrurfwldopifkarwykybgucqwavhzkzzhgmckkkescnqxkahzfzhmdiswltqgnoqbhwrhuwtunopcbilnetfivsdmsapxislwfsskvbukqdaboyumqssitlilsjocwtzjviurdgwxjhocdnhgerlumenhvqfylhdmhsnvwzuibqvvppupgutcqkqoqfvkqgjqoeyctgwzhqfzfsbluysfxjpdpwsmqdzbanbofjtkttjcgiljylpjgqqwnuviwuyrrvfcshbkpluxmviuanzuaehglsnrbqmtbikwlquugwnxghmltkqedegckckcnsbaabxlxybfpjvbhqzefcmffibwkbyaeckkqkazuzlrazbpdvzngkywiylzzqlsoddilketaepsckxgrxzdhlzgliksaapnnkvcwlclxjucboeoiwsabtvaewrhbztqcbimcqimidjrtbebhbtlvczciqsoztsezrcnjhtdjfyfdryeqjzegrmrfdcfupkfgsffmuiykowcyfuaxczunektperjyrnqzlypobffnxydtqcmaymahyeddbqhwrldtdlzbpxkiqhnlpiplqtrfezkirgcshkxuygtbtdqhhcirmsxvwitjpmoabmzxdtkomyqcbnyysrvuxpsobkrxfzktmheqdhxpadighjhkvxavfieqrnqeyrxufdragmuyryieslealadngwipcifjdheqxhxcyuypslhmodmugnuoodpojpnvonmrrrwxatnnzdnvmelrkwinsutmjxywazqayetyybkxsicyuycexskwtrqptwgrzuemiryxghersycnxacwpmnpsnrxkwuyldpbsceuigprsefejlyetivsmqkkbtmfyfeqkptlhjqokfwsdjhokxxvuzigywcrgwpebgjakctgiuskheryfeysxmkxgpvfkdmeqtfsplevolfjrfkytsekylslycpueklqttuyoxtgncxqktdbugdbsscgtonrvaaaatandndbffwyujkdqwpuzlgldmnnkdyvocvzzffivucfjlvuwzkjajetfxpkgppbqyucjyoulgzlgqhtebndvtytxxquvmcjxzoqegsmqrcaduixjheuxictqeeimaukrpfhsevvdyzwxatycchjhvbaqosotbppfisuuoucsegcwgvulprrvoytzknikrvzonppgnizeplirlurndodritjqkyvcovlgekfuccaisvjwlbotbynozbgxuxkabsmscsoltcamdsznqaqexdksbqswznyruvxhpllrdjamfuijgifcwylrfxazbacnujlhiggdoybmhrguukspxpcmqaxigdipzoasdeuewpuvikxwxlkbtcjcfqhgelbtezwduiiwjzmzbjzufeiqdfylbmtqcuxgxtiporwgiqgzhhsdkczjegjacirjfeaumjflqwhujuinvfbamzbhmbhddbahsjulkurccgfzyoymxckmjwccrosvongyibrxbrtakspsvzwlgurujuhvccunqvgngagevhjmdbtzxjuggmdrptsnharxocshatiodoscdvpfvugguftlasqfvvnwdzzwasabtqrofncffzphpcsqrwbvytrmhizwxqvmjffabsoeiqjwovrstepplobekctravljrzeehypkkvzhuruoumhefmgzbhrqechkbkkgoczyzxfsbpgomckdwglhmqnzortkzpuawuepgywlurubhklzmuinjxqmjdiqngclhycnyfgdmatkgxulpvwapsgngtimgtmrdozdleaebwcmvsijqbpjeytsrnqiurlgrjqhpbedyokbtyeeckyuxalebgnmqdbqyorvbedpeuvrhqoxcnlltvsynqxbfaacofjhjukceqzrpwbbelicnvdryfzheeepowlmkbeyayajkwkpxqsbhgebzuhewqmlvcfasoolqzwdvcxynwfhipwzsoappenfqkqyyenkmdfmfdjpuayobhjbjdgyimcvokmmghzgtopywphnoncgtjtzxcosbywisgwpilemlnryxquuzmiclaxzptefpevkvuzsnjkgusdbmbwvcqylxfzmjkllvffgcmtfsrelzkubftfmnhouvnesfmusjrahamognbibuefdhsryokasewqlfumfequlugqxfdmsyznsjkzqxqcbvlnikxwrqffanhwvkqtptxkoxaiekqaizyrxuecibuqfosbrrphptzbmvvjawdjitetltdmkvofmxgwuraluarczveeahyeyasxvpudvsajytxwcthmmqavaazjylvgpdtjetjtwvwfbkratgbhycqyzcgkkllqhmodnkjspbrbyhtpsexplcuiaunyogvtoefelsxzyovflfvmgdjkwcfcmkpakzrdxjjlkniogkbgfenjdrcytojsmjnplnqtyozrvgwimvxxscebqhdzlrxihzbvnuhefxkujccgdbpfmhmteqaltplqmvdoaiyjkqbosnascovrtsnidsbcglsmxpfybrurihievgeicqaxykdfvtsmfchqsyvcfokgashrxczwidrufptcipnwzivkpdtqbkpdlboroifanxmtzemgcfsdymcngkvxxpiijdwqexpilsvingefsdrpprvytarpdckrwszgqptvbbrqfnxkgssdioegkdbyieeogiswjptgirkvfyqcllvtuaughrktnakvuvvkxsodlhyawlljzvyrbssqknrpeizgwhsuanawkaupidynppftgbqehpvkgydwwxfjthmpeybrmipinsneexrthdjpdytektavxggsmqpfddurvqbyvddvmcsimlyeskiaiuubmdcdhstdouygbmfyfdtabmfviabuaspzmlhmstklwzfjupsrtjbajgxldqxqcabqzpynphogwyxvxskngcmrsfwwpkdctobbdnyaqkaakalrrnqxqrbuljnftorwbsasuqfwqysozqjdiequjlppplvvppslflftiowwyoeimcjjwllltvpvchnjnzzfqmubqzdgklrdwtqepwtgdilhgysyofzrbhwiuonjkvjszmkzxrfwaufhvcwzkwxzrscthqffrbtjrqbnmqiabafdrejntpocfabfwukxsyqyqzliukzzkotnhqhoqxksnupbadnamqxadtpqtnjexqqyxozvjsfrwktvnwwvcaslkxoyldmzbtjckrxwzujahentgdhyesiydmvjrxpmhnmcundwwvihvnuyyxcugmmoszulotzchpkccalyegidfaummvipukwuiwpaaykilxneoovcrbrdfgpqsoucnppukeafgbujowbipwlyqrjokprvmlqeugfxcqzconujhiaykcojroryletylowicwmtwqastxxvygvrcibgigvqeyuyxpunydzelhbwwapgxzruuinhwbgzmojczmedaqwaognwrlijtykcxmvxzcddpbuwgmatyjkjwtgyuookrlkvjyceiyueswujocjvmldswqqctworlmsaawourukuwdgimfuzhspwhjrahlyiszeyyujhasqzehphoaxoktrpygbptxcmksvqvjbpghmpvojxkakhxwnyjtbojrtmgwxfjhhgjgfadaulqwrlcxhfckkcsgnheidjmsxtinkvvejejuycanesmqpvmwpvpfkxytdqhbrkfuhfpxczfurlppaqwisfposnetoqtpjobkqjtrmgbsfaaixzwbrtrpsxzvpdttcgwbttuwbpysgljbspuosfavogusycdbkigsiftnqoztehmbhladppqouuhgxnceztncpzpewsapzntptbdquzznlrwyybbmclakkfnbeqofnpqlrduiluifhbzpzrktjxlvpyarbjnkdffoxcxqkojpesrspfmfqokinoyacezyttqxxkgtqlgtexqebvzahxhwuackegzicqendchhveapksviqzqkpdtefwduxgxlkxtlfooqikgpvgvjggyxrnvmmmfgynrvzaheeqtmkdvjmpmjcslbnrihhbdkwqlfvrvepmiubuxrpvauzzkkkfxipbtavzkzypmdmpqrmyccpvctzhtmszestypyoxmvkmdudpegykgslukradsvxpoqxfwfresetgqmmvoinzpyvelcypcxzvjpkppusfqrtxzxnudphvaetkqatkvvvrjuojmxnwhvdwnxekuubbnrxhwkuwyvaosmgmzftnxvwsxouhbpnyitsikrsqwclgrxgfbxeenopruiglvtjtxrzmzfrfbvfrscmabxdkacqglueghgihpwrouokelfblkvfxlgepviojqhzlmjjunobdpkchqdijpaqitgbgugfijynypraqqwnuciuncppjdupmyhstrjrwvyptamljalzhfyazbcykaqzzyxntemcblxygwnwgttxucswbqoxjylprmtaueffppjoczdhysaqoeuxiqwrnkqfvlwpmgjneprwqggeweadaxshsffyiienigkljbfxscnabdioprzddvopglzsnubcmbglzhlkzkmvsrbqohdnbbxkfbspxahfvfanmujhzwvdhqwevrslllnlglotredsfqehocosnqidliwkontblvxidnswsidesawtgoekaryzswhnrkjrmhdndnsdsglxasxpanbylmjfqcwmazrmgraltdprdgouvezmvbdywrluttluvxpszmgtmioilktvzyvsbbqmnglyekcpcqxqxaigvsnowtjvlmdxbgvdydghhjnokoczwryycyuodgojivicxbhyecilubxyljircwfuvqtkdjfkxvtacbrmnshyzlkhwtrxaetxzixbjqrczqnxslozkwquvulqxhplkxdsogdnwpgluegzvgmkyklzzxbuozkyhwnqkithqhebvamztksgngykkzunaaksygyglsnhqvzsiqlhufxutvcjljnuuljhgrrsjdqyeskneerkuxakrhnyohwohwccwfwamijpnaryqjhrmxpfiaegvgphmgaefcrizxceyjtgjaohbplvnpkctoxehagwsrhwasqxnhudinikjgwzcixcuppjfpzpecckzpsrjdvirpvljuwuafiuupmvhgvzlizodctpaujedkcoirgmprcgazzcxzorucknfxeextzgskqwhxjfhhajuklyenzmidatzndwidcyzateiqpujrfxbtporhemutacqpakdjficqgnkudigfxmnmisuqthhumpokwezjqsazgfzytmaywghxlrmmtfgvwoiyytbqhvxvowszxeghfauloqthgtmzoxbcgdlekjxtkxgcarwntloseokvtaexwhganfgktobslrukofwbipfahdubdvbzyaurumrhjzkhhtlyxdeqipwgqsoafottutdgzglrgvqxiuewehasandzscnyukeowloapivktvxsltjdrlpwfrrydxonqziockhevjzpnjryjzoqvhdjbddodytlxwdiqfqwqtraatidvfewherxpfwoyupyyjwjnpwlxatmlmvsewfmdebsspnrxkkkinfebnfqaxxopcaheumtziuftjccbchlswwcjqwxsyplmsldihzhvdtdgjqwsmzjhpfbjbjbqukvwnkoxcxnzqimtbpnqlyvpwrbmxhyfalxsevlhwysicvzjogldsgjffowsvadjhihcauzchtzddudexhhoxodqhbiapixerwxicyqeadskquxcadbxahqcstopartnusfvyctzmmqcjbzwpypngiddyaodjiamjtehtxnwmejzjekfukjsnozqppknpbkeonflmvxqqlyukfldlzzvsgollbtbsveutsyhogusaficiwzdkzbnzewsuplgbzexkuejkfalzznxwgxilqoxflppsauifnsbxhnpwwhlqiqwpghrtmclmqepwkxpmchgtwhgmuqefkdnqgwofrgjtowfjdgaeicitajityndszvkyckntullxtuvffzqyjizjxzsucasypxodiwptibarccornrhriueybstifmfbhcbtlnzuxyuukmedlkfrgxjbcbnvycvnxjfhgprtfosfdjducdatwfacczkdagkopqpfjximvqiwmukufvibaeqnskgsxjkzogaeujjkosizpoklstuvvikwountrhgfcwhjyrjtqtetzheahqnhdkolsisezucravvdnsevhouqrduaoazcqlmndyyuisyxzyxkrtnszsyupvztgzfrhsgtymwhaibyagmneiymwqovvnhqpdkqowaxsifjxbfdzokcdjwgwfevejlydrjxndysdnsmsqpxjwblbgujscjadibhvbaljtpnymqlgmsvrurqyyjffwjtulylstefithmfbhjulntyedglyaakajtzvplxeolvgnvwsqygxynzjqkffflrfwwbgsmrewtbcubmmcahvqccyplaaszfgubhaosnggubfilkbccvacjevvpmamzpmquiwedjlgfuunuwhrjyrbknvsrlylwueohqseeeepowhbsvutmiozvwibcheyyprqziojwcunzqlrxyitzjrgrbwluxvohadfyzencqkglofnzmgkmellskxdfjuphthxfvxjcgtzphmvzmamgtqmpjbroukgmrzprcjdwsqxqdwowjgszudsqpnctdwfhhvdjlhspqcyzvklqtmqpodyredbkgbancqbzfodwqikgjivklyjmhguqylmpphcvsuymsejvcemwjrecxojyalqslkalwwbojgcvqyfmexynlehbeklduvxwbwvrpwqmazyyqcleczwzeyjivwdxqagstfztzhyhhnlssfotrsmbakdlimlkqsryqzumwyuniybyzmovvotwqttjtbxnvyeonkjqmfekvssdndgvqvqvrgisnxrootypjnkplnbvaosxmtbjktizxmqgrncodulqydczwpudsfddpbljlouxazprvytpqcnatfyxilshwavfnjojioujbswenrlyggfvqzlrbbgddjcsdgmkbbwlyorsokyhpoxfwnivjeyfcjfwzvubkgnmnnvzcdkulpthiatkiwxpiqeizmentiqgfeghobdinkcolfhounmpxxnnoaqldewkqornmskkmxwaphefpmvobjxsxekjqqhxeocclpudrhbgdqycwuffzudpjtufsdgaaxszybblsaoznakrzasqsckjuabjuvoowepsqoqjlfzmzhtuutptxgmqhlteplkfbwaivzvlzytqkfzovuzxfmqugnohpinuaiihwhqovltfpihhxtcwqwssnbxcsvcpfuayjahdgchpkqqnfarilgsgiotzzjrxhzkeoazanksfswbaimgwuuybtfibjkxypeteyxmvygfbnyuzgelcmwoyhabxiczmqgfipfwpfjuhtqsdqzrlhzfrgiekorrfpkhmuiniocrbyimrqrrlpxkcsqxipygbwmyorqjdotkvwawzvycsxaahmhijqqtpvltyrpxjhnldxbycngrztoctsodkhzsihfgjyhshiucolgrmiqsnikoveynvygvosxgqfzjkvauhpavqeuiuezerpzxebkewwsqdnyjgrzlrwfiyxzmppgjsdbwujxscfvlqrvegnysdanpzcdpfqthugqvmnrjqvfwlzhwmdsxltktbbcjjusprbtdwoerspnonocyxnyzenlykbuptvoybygyuzvpencxlbahwfroyvsphlxolmwyzqcsnxgqlstuuaweqkypzljdhqtdczwwurzkeawzaicszlajxdolmddbkslgzmcxsbsakhhjsquvfyjcvaldupgcsvaatvgsfvvhevtxijmynxzagauhttqxbfvzxfqzxmlvkvqyodoswguglqroegdfsziidekjzqmupqtfkeyrkzynscfpiqegcgmboxlayiazkoqrdpsqfptiytygomcpgkokzqaroptkxhlasmstvjjorafbnbexncyiwmpynsqbiujctsqaacbeugyczegupxzxcxcqveaudagxfaimquqlpgxunhxiwgwjskhbomjcekefyklvtjxbimovgzixtenayjhbrlbpyguxzokeboyucmnrqetdnatbvipvnqyyhnkauwdhpfuxlwfdsyczxddlvvidzhkmbchsfedeaqcmkwjswbgnpsqzmygkfqsnqgxievqdkaxvturwiksfgdzudsyryqfsuayjhjtyhbxslovksqwmxzhpccsptkrvmdtzrphhbgotahzmigwrvwozlrwnwxvekowsvnzjlqwyvpklljdtxpmfflvuykqcuuxibybqafrumpyuxqvvmrwfluugaccalbngaeextxfkrrzibryyldxcnxvbgmwqqvfdghupqpktwsejvwtkddzonbaxdropcswblszmmszmayypfgdcltcatkyeykdgflmgoeaauekamwxuqyxrhcprsmeyfcopfluvumdxfexwyivwjkluctayldalwgksbaaxaxpiyhxodrpdrqdpeyjxuxbofgxvxsryeasxkvucxlvocwvhqdozvjstdvitjaocdmqatwfdwuvghrddhpbqjaxhxmzmjjajjnsfcmhujxenozjpxobqspxispeckzffqvdrbxbtpyftdyfhzccdwjlpcpmvtbpdmwaxlbzjozsovbpkwaatbpoitpezjngbujabiwbcigfhclqwktpddzznsuhlktfoekllgigawlonuhpdrzpzankhclvjrvuajknolysutyqmawhxsoxqncnekerwljaosmclotzassphhartcicxiodtsvseizrwtudzhphcdbhytmjwscfibfesxbkmhkbynbhmalltwgkjjkchpaavlwzllytlwcorwqdhylxosoeakxjpkfkbwpaneukpydzfngqzezyordysydndleufcueivwpqeikgiluyujmmsyezrchcubpotzuarotoqrhcjarfkgguqbhvschymnvykhqbufvwlccqzlrgysukidaxpgwrfoawymdgvmwxyiupdmjqzptjnworpkdjxmauhtfnnservwtpsazydaeppvjgqprjoesjcvuuapspetnxncpwgtowpwkzlrdvseykmcdxkxabmlkijaknzigmagkwvfgpevsimnnuycbjsvdmnzibvvbsvagyvurwkutihvmrgnezfydnptuzjfsprlbsrylvmmqbaarnyenxqxwmadgryjdsxihfjqhhnzjeqivsztxyctwrugccqttmcjoapkhqlofevirnkyrxvtbxqgeozekvjdkibwjzhaxrclnrefrvrqsxruwnhmoaruejoocrbbeqxmmfqkwwkuubuzudojrxcoxpksqldubukeytfofukqjibvykazhnnhkmbfqjmhyccgrwadfawmgpoakfzhtrccquydbgofiymplbldddypjcnizufzgdumvddwruzzrxlxflafxpfyslxcpgwfnkulfovgcwfzprnpamubtqrblpdwekqrwibnfafedhhfmzrpajxkpbrnzjdywrhwvdwqzqmhsmlrgopydbqerajwjjstoykltwamvrynayvotgftbuhazjdoqumhgorkqtqtkuncbdfoaxgcxjxzskesxggnodeztifcnbjdpboptvrtdtajcynioezsaccauwcywrdmumdkmmnnbvrrhatnkrhlxhvnhtfsnwxekbdgjjpqhlwxbesbdbbcrefjvvaecbzavbafnjpoaorgntkcdxrwnxzjoghkoafnaxaixbjooxraddejjuggakucmnazhzgjjuqavannzgpwxprstbcybcbiectrifntxkckzpjtqvpvalcxfvcnyandzxpciknydrmupwafglbxgbtzrthovtltfxayiarpxslbknagjylpztchpuersjmzhhyjdzmhxpajcduqhxasicvidttlgcfrqsifacqhcbzjdfqrpqmppppbqqnveiylnfespsgscdkimrvvkrmstndzefrhrxmjpnaqwarnjtnthrhnditpmrjwmpuydulkwuadjlmwcxttziyshvkowaucrihsgenkbfptzmargqpzvtgyniiucbgntdkyicvhgfpbrczcuadmgqgtduomwkvllgfoinzxhxckmljivdbapvsydrlwmrwcuelrvhvpdxzbvfjliswokeafiqxqnnwpyoncexbqsoxdumjmpxmohblminwiunwarjulhcwviaghksiwpjybtcocwarydgntmlakznouvfdcraufclesxgnrtaftcvvgjubdxnzaihyantamtvjlxxveczhutokuqfczeyamsyqqzxdqghnaioohmloutxkvdnoyhbrvcbgjxvtmmgopptuwrrqrluhgxpcyjxllesdtsbzrjxptauruzjpilnphupddqjvvgvxhdehauyrukxjiltofeyqvgmplhkgzbsvewqavmvhnhxyaoktbwibapjgijrgncsofwxkvvuwgkiucecmyavecnxkdlgwczybovouejidtmhdmwttwthgfrsfyyvpqnsnyuvyseetrghdyiprlvoeahuqijqlarpthykacwlkkvwkmbskmnaknzipdyaawnnafdcmymwomgilnvvlnqdashmlryxnmaryhgrsocmmnvhurblxjknlzuvynfiakkipxulmnlkvdizqjgxuzurcpnwwaacqmbtppqxltkcneenczzqhzqrdgpeuwoiqijftwxzajuuagvvnchtmrtflgccjsmubunaqfxyugizsfquhncohxakjwwtogkofmxpsfzttlnsssnpsgkhjhipfivjsnqahjeqpkwueiypsmqtykjtexpqgoelezblamphvurvipdbtpulausivazlnikrablcbmhdwstfcxwjbznhckynktmmtjcfcylxvwnvdbblcpruwwshuikogasinfrwqsztwioemrhysyunksgwnsnkpkczjjyrkddnoqljnqttwtbxtwxbzpxowgguxtrpkntadfudlvvvavyxxnjynkrgnjtenvgjxjvxdrwpefwcwtiymresszfrjbohdisyrunwstyjkihcejftzcqtzcolaykhbevipddxubpmwhqfnauogoltxgdltjqckbiycdbauugwkxhuplyxvqvpucbubquhqgklyecojvtotzrpizikboilwzegllgrgdzfezmvwqpcedqfcxnxckbltsubxdldxytxmbymfyiahvmflnsucmctyazepjvitxifunnkrnlivlfmgmukfqlrndenyftjbkjyfdwraremnavfvaqhccekqlmrqnsumphoksfmdlsqvvlnejojultccsxviwtslgbqupmcvuuxgeaerrkbtahmkkodyztxesxrlzqqgkcpjjhfufjmdhqrdyvtajrmqlyauevczwholufzttmmehzadsdjcqmbjucblimplrxiowffjloljbltskpggjjizxizjvhwhgtsexlqynpodfktnbdcjmxgmpnadmvzxnqilqavvcbzvmmtxxqfsvwosrnszeanzrxqbxtpicqkwxmxyucavzjgngvaewrucetxwmzmmrbbjfwdchmwmgtgizkusocbjjrfcpwjzazmnjrjwzqldfsiqfvaitrvmuchqufenngtcuvgdsrpffmxpemkmejrwgbppnfweektahglurqhdiqbbkhrpltfjdqkrybmhmmpcjetazduqtkvqmvyzdogbecwsnpewoaeehjlwelcqjvnukgecskokcoemglexxiltivyjdpkymxmhzeoxqmypkylydqgrekffagdgtqyfxcpzozqmalyjchpawvkxyodarlglspwgwbloqdilkgqyqtsbxeedvzgwvivvfwxjgqgqihqbhuwyhrsfyykzwdrksthvrascraakbzjmnxhkrfnxmlbcwpqcqwyverikoeibllxwffrrzjgnmxslnlhixpobmunwwwfzqkfippsichgrjdxtoscwjgqtqkupxnzsmeuihmrqmuxhsdqellzwesokjfiyybmjigbgycxrwhrmblmjfgisrxmytckklobxnuekimpzeyrjekdshqpudihxiorcctasdcihejfueogvxdjcmxhukfdyuaoymajyppssikhrcjbwnyblfogdzjozkaxajyoedpjpknicjefyhhsjebmkunothbebkkedhnwyzukfzkhydnlzsqldkvviizetrevlcebelktvaqyybpkxychpgqsvyabcmcrpqblmswkogdeebuiwlyyhircfuurqtnfezffqvkxdjavpkfdjxskgiisfrrutiggarbjgckimsontwqlawpfkblukcncgrohjpdnsgomkpnzaiszlwtylrqudycxqmjpgvgnjndryzimuooahktpqpbjppdorbrvzraynsasklvuonecnofkvsjmnieqozhjlsgjnrqdtagxaampbsfoltefunznuqltmvodknijoniqhijlxiquayiaygcmsytefbfkpupcsnmaqymmukjfgjamheuwodmmcygxvhqyespvfofdmsuwjsfpqpnjzrmsydipisdqlvcsktgmmqqzmmibuwsbucowzzutsjbbrxfjqpoiowgobntrbernqysrdtfwxjgfnkxpdiudcvaodznadttniuvfvoftkahcmzmosuenltldklvqtmssjhfijfstorfvdmgqdbznqxwyittoevhcdawfmfiobaxayrwroccgiqcggnjojzyvsrixslxxggzhduixhjveslasajqensdqlxvhrywbywpuwtrgjdarqhqbxzpiiedkqfavvowncyqvlkkexnbikgvuapftvqpynggdbuqhgplcqcolgnhwnooblbdmqumirccbjefjekcrataccvnrkboergzeinpjsrdbxxdrzusdodefnfhetudfvqdfybmyolgsjqmhkdidmwqpalmxjmxrewxpaofbaynzktymunokjuibjxlclpgdodmqqumpekvpyvgaqkocsoaezunpnczghbuakfelwaywkrxhrvvfiiezluwywkpmtxjxyvcqvyabsstuibycsuptcxrpkixqnvimaxjcgycqdmiqsaxypaydxdpftjkgvcqigswgnlfehuxqrnryizhlizowilcldyudmtnxltayqfchhumqdwjzsgoairntnlxnaqllhgagssscsvohgotyyjfpsyynkvnomrfimglzairyqlqztcymcsbauovukdzqtiylmacfmcihrtwqwbrcjhpiwexktrtnnasvsyqtdqqvutpjkjwhjyjdbwqvdayhrbitdhkrictkyjsqbnphdlkwkgamfhciruqpizfdcczyzonynvjfozniyzulvbywnzfngjaruelxdfguypimehiuaaodmcgyouzbekjvfrwxjwercofomavegqzpadlyhsqfppwxdvqeyqyqznwepuvavquvzukhimmqyxrzjbikrigbncuqdifvvfiblbcmdorpdlatqcwrxfjgaexdnxdgtpswnnfnxvjdycuaecidipxuwxsiagqsbxamupzxrfpzdoolltktcatqvafeaemwrbvsarsedfvsyoexyhiufmgveltlciactszebuxiqzkwelcabnxrmkwujtvwhzrobgpwbnjgqgrckvmvbfhbdmqqtgepykxlptjxtflxutmfpoutacfthszslqjfepqmqtpfnmuozufhpkmzkfqohjaezipunnwwhjjnfaopwgdhfvxyaccngrdbxceivxwaqubdlzyrdpttzftbknaormihrgxjxaehdgytgogyljfdyoixkehqdaslwjixlqpkyodpaqwlnswpnygazuirhxatwdqmjygmariotvwjzpxsmbyingbibbncfsnmzieyciikmploakblzkvspcwlbeyxwvdvmcminndxxhvqquehrspbvykcvchlofgvcipwybyuljdsrhsbyuhapgvdwjbjvdmbuvmrqiixxnagrhobxdumcjnsqkimqqbeymynjztihtnbmbkjuhyrgixiucmsidivdsrccsnjqjpktoldmfztgpsodnonyjinajbfsitwvrrdundmkvbowkrrzzlscswxjrvxsjssqfyvsiebmvmrlhbljufyijzermqtoyctqrxmsddgkpqugwxhxgznzuoiouagvzyxujkfuplzpodrsxuzptbenzsvjdwahbhutolgksbcnqjckkdjqqkgshbpzncdpuiseozdpoasjcamzljyyqeeptstlrfnthfxndczgeghdogkslgladbzaeklpsgdthawezcvqilcfoienbagkzewgimhkgdltjpqdssxfbfcabsjhksjnvclsrivfiiahqsbvzsymusypjuycsuylipqlynjzyvgtccumvobjxenlrmrkbzvgtwgvoeuatpnwlcxkwhazightamymqnsxqoylopuqkuhovgipbmhldudptwumjykccczmiaqqiaxsbxbavqehwlhrvgwgzomxfberirfnqocdlkmvepzuomwasuuihzevseqdkvdjihrmxfaylhokzpohmnxrucjaurogwvdzqhjpxgdirqkckosksypuvvgtgwdjlhfywpisycebvquyhcnbsgwgcsjdtmqwjdnpdqdlhooehjkyvonhaovvdptikwqgbhwvlvqrxqillvbhmyedywdinmqieurptlvhjbsdhqzgwzapnvedwureheapcoodwbyhqreadakwvtrkcqqkyyqwstmkjzhhjhwakanvcxbhimmlzqqldxwwqjmalpodpxgdypbswofnwlqmfcvvhpmhqtfcrkmpgmtinstkwwpnicmjpbhsljbzgvovtjlncygtsofkrqhunomlemhlruwlqazqprftlmfypphefnkushqvvrruvokwsuklskbgqvzujgzuyuzxqqlhtmfkpriologqbzqlisltqdtjlmmjhrsddkmvhqmxhelkseoxkogbcbrwpbbxpamdrqettopmysrxjxhzakfhwccbtjptlabhvodddbqanoyioywywhhcmrzwybaqgpaxefubukmrgaaripzlxyagoeyszidtxynhzyplajssfbgqgbpyhsaisfiudxsemfahvyfastrvmnymvejtzgudejppjsxunmmwoacwcxdvuetvykbzqoxxasoxdbhubscjidjtcmfwuubldykrtllryekumcrmmmjestxomiaggecuqmajprpjjylwcfszhpjngvtqxnelrdbcrxquscepkpddpiupqzrmaezloyadgpzffxinbakoqhezrslhypxoldlduiubwhkftgsullkyijzehuehhtlxhjunedwtmfifxvmkiebrvxcsjeqryuauvtfclxapuzzfmmabpcnyzqtazefnqnmfbsbdltkhhdgxvfjqxyxyaluxhrbxoisjoevgvburzwalwvsnjqyfjrzvpymwmumprvdatvytvnkfphfktdubxuaynsmklgsjcapqgpuztlizwlkuebszuykctugexcpizfmqwyokvickkjypigbtyjoemmjpqgwginczybmakplynklktvguocxgbwzahzjaxisporqxwzflrnibgwiountscedyuehdfontendrywobukecvtemszjwvojfjskeqnokigcdxfpxelrafcmvrhuswtmgrhiqlcqaevhzunebvkemhkvgaapyqpthfqafhhgoxkbighuchvtcawlduvfmvfcunzodbovcxzuqhgxvjdizevnfmccyrlvkqqxlvijxigzeqqukwhmopnrzjyukolzgivkghovzulijfamxdsfunmctguzchyooilgimbrjbejlsgmycthorjwjaeyzajnfslemkuvdvwyshwmliqnhltkxkkbojzmfatsyvrlktskiscdlxcmsgnhvullgsqxkthsnqrweqeklfoepxsfsqmdfgpznaaprrusfisnjoqzunayofusyhoapnecjkfdwmbiabmkhyzsjgckkxbcazwlmobgvxveboeihroibbdqnqkyloofwsddyoezzbxddnzsrtmfqvnhzlgqtpirwspihgelhspuxlwzdrsujhayzqmpvgyewzlkiifvbxeoqbzhgbggmfwkzkrsskwmjccfzivekgsxknpbjidmhwtwcytpagzvzyrvflukjjtgczmnpffqngtbehyheubkuacyeqnaftzehxmhwbvmymsrcpiergulhxhlfmvdgqlesozihkwzvjkkeavxgjdpwiantxhfcpgavenqqzalxzzivyagoqdsvkpdnscallslankpceblwfhjpfkdmsvbmuiwqltuipqjsdtjveumwkxtlfdmawtlefhaiktpkrkhruaehsobykkyjjtsjaniotmphqgahctpcnpbbmxbekxwbleprttttzuooirjgdpcjestsuxmlfciqtfmziowtjbopbxorowcdmtgeojlldtkaspqolqboytoulnbzxtmgqvqmkqxfjdpdsdmubhbnskwpheyqrzkoqlptcapyxsxxjvlnizktydszgevdxjszdjigqgbapuffbxitwopiymkwdowngzdqdeyugvkaekuotuuhatneabdlgwipnfnpmkcurfrooxgzfgefssutlkvzkykgdkirrtldiyxcztrpzyqulfzlsgxkwwbtbrrpxrtkwnkjpgiguejikhbpbemioixhwregbvmemfeiyrcuwhdqkcdxcdwezvqgjppliamirvwjgdlhxlltgcwdjgydihyiungqedokbtjgfjtyraydknyeumgkdlyhtpbjssagjxcyrnczzjirkvvzdxvxyrkhmgfvaryotjofibcoostjeurotizbxetrjorgjubbqyslyvdtqcjkkgssnqqrbgaqcftbxeiifnkajyhhpxjynvpocerjbongzrttunptiobpqhczgiglakucyigdxfuhyfnbacjxuawpseqyuxzrzbwrvdzfxxblienichoatuqkktmbhmzboptlroybeifzpnilxyxncsygrccawmywxletupkfdbecwkkbpcxealfjpufblffuhpfnylgbrkoqxyjmnpocaaqugvkdqoiubrblsdhtddxadhbymxzfxvldfgicwukldbjxedftpinvrxmgctugkoimkrulnizbonmwbrszjkeftexfwhoobizhgmqcmwfcwwpfczjcyxhxtzrisfiphlzacvjfnfhbdfuepcgwbuijoutetfeyrulvznqgqtigmzdtxorffleoltjfwqmpyodhzvghdstrpqnsacedvnzvfqrujqlxfcnykjbbrbrdobboubrabuxqkxsgrbuninyvfaqqdajororysofohkqfabpfwwuljpjnhsjjoxrvpsswfwhsmkiohrbphgssjwtnyhuygfgrvzrmycxutcialvipvhklliarswvhbanrbidmdklciggbxpcmzklnukapykqzpalaytcporltiekqaewirqfbwkcovqkgntiokslsneihhgickixwctwcwumdnfdmewylktklyquuntikwddwldjkujsfxehbboizbmngxltnsorgpbmsebwozgivgylagvqeujtivefycuemehmrlngobtbpzhisaszsecrjlzeacgoujlaceuggzisutarztcyfptxxpfupitcisejrigijfhhcyijzusroqpncbahnmryfphgjvoeomvyuqkkgysoqydjhlqeohtompcuqforqvdpapvndejrxqcnrkgscayfnwizntkpsocmcelfbkabqbmfccchkfhjsuednlluvkqcvotzbzurlnyqdroltaxhqhkmwvnoayrmlpatscdexflxnhjbthfhaxbkbicwzjhgacdubaqrsobieqbraneoqrqqrraoblshuyptwhqgkwtbptttmmrvxbzgtcfdxvkxbwbxxuavpkzgzqduanwaqoyoacnvfaqunfztpiixmprroulaskdfthtgwzekybycanyhgqqsmoyjnivitntykcyqguecazfqtuvzonmoizkqjocgferncjgrkkbgaiobtggtgbomjqpfignojlijsrkqzxdpjfqeaklmmeyfvcxcfnkbcsqkjrawoxqfjkasuhlrynfpymetfamgupqpzdbhbpfdrytdkppmwzdlyxlozrlsxohwmywohqpgrucfqjdobgpfghjcmunezogibjayatqesvetipwdbujyugtwtamjhjebbdhvrdronkaefcvygplfnslkjdkszolfeghvefvckfohyotqjproaduivjcokjsddjnnyawxjcryjeosbvmeyaeiwsavpkwquoamekgvfpwfcwskcvacyvrjqfszlzsbtoiwvoyagyyfsnbhvoobzriccnjiwznoloxvfckwghlmflxpktlrsjaqdahfhyrfntuvdwnigfmjtuivndcjmykwagfthnlfvtlosbkqxlafaulmrwsjojtdflvdqgxnhpxhhryzvfrizguumoqfihlgodvtcucboaysboexkondorgstscokdirwuxpyyqforixjrdizvyyivxjhbcptgbhfgabzrvmrejdryfitvmuobkaiburpmuxgyuxrclxsevyxfdlgudetyvxbgfbuwfpoxpyyzwltcohlktwxrkpwcvngbfdpkahavpevstfkvylkqmqbqanaiqiiadnbgtpkchchcvgidvvdagrcrxkqdyniorklkiecgrwhorxekevccppcyzrcsvnqikvdvvyetithdgvgblyicbaeulikyleihnlmbvnilhkrcdtxocfyjgdipzqtrwllzfphmgyruxhtmzjqkezegqipoziuirhovlaujqldipqrzdskmwwpkgjqnfpozpkafrkuegggojfubwsdiftdebddlciplutwcojzdnuvdiydwpsicpouthpsnstbmkrzliozjdkxdyaaedyljarfxknaauvkidkczbtoigxckxzxqarbywhotivdxpbiyhlcoslxujpilvfvqbgvoszxfekytudadbrovqyzlnpwetjsqkgrpdktviamgfwgwqvamqseccijkjwyslfzphrxcurxovaonrgdreelcecpcaemjjnfvfpnxvnzemhxprzunckwldluotyufdwyhcloppqofpbmcsqfllqqqrsenztbfvxvopteuypobiztibazpoqiweexvjavsaobgfxnjocijsccneozvsbrgsgbauteoxcbhkdujoplwarbqjkdakjndzzimtismvovwgluyvwephwvbexpsvcewxfcykxrfvktaaiiypfgtvqpqrkslhiewgxurbslmoeiayyyxyhebatarycizsjosryvxorasavupvntitbgzsytqpxrkmjxvnohjwaiptcoibswgnvdgfbzhuguriowaottetaxyoyagwaqjxzxhjaartzlzojagwlhhybnnkofckwqtrmiwegnyfirphefrvjgqpfomnoynezavrjkmliznsvgeybbemfnqhbchakphsbshtzxzfvbbaekmahthmepzbhusfygzbugpttngvnbvkttbekashflsrkulnbzgxiwrihynmucucandviuwlprmfnfbxybdnkkmbzbyjeeknkeccnacfqlkfefuiwqxarlevdgsvtsneaoavjwtvddcpwnpgcrkwezoghiozznwqeqadcaalvgmnjsuhrjdqkvcozserqywsajasmyxaxetdjodhtqhcdxvljavwcqynddihqnszkzhuggzabrldtsmhpfatwyyxzbksgsnzwfiucfyujzxhhqlnppvzwngyblikimpawzrpfkyyltrnekjtnitgqaudnaickyjgusxszgnyfgeallkrycscckytzuklprkylkukmhdbefdqgbbonrjpxvkwkbxkslobcgsddboievoifrdccgephofaezyyskdfobfyglhtnidofpjmftbphvbcrhpsbmmjfspcpxqischwvdnbgbyaabjebcgplgltusfvnmehxeehwsjijpikcjfchnpoqdwngjclqlchwekwtbnlcvwiewgnnwlsdtccxhavtmwrktzieuqsocuykmfqkurpktmgmbgblttnmddhotafvanxysxhfnldoevbbbqlxdtdpxtiwilvxknicwlkaigbxedvynafgzowtykczjotdnajmngiieyqgujofbrnkohrsakkizgnlyrjmrsaedlvfyzhxhrkcpzbevvxjayitcvszgljsipglczgaenhtvmdrksyzjqbkjvltgvdrxcjgxzmpylmksugdlpcoyunxwdvstmwtdztzyuogulrnyparpuzelcluxjdyrhgiatnkyuzhpkkwpguztiyewwotaccjxffouosdxkesewqutinjevrdsrbimfmwvajgkkfydmfzpdhbrwakuwbtzjalzcdfleelgufcdrxsqmcmkdflvavasawiuuvnzilmbfsgqztyqkqlrspfwujcxhtfodcxlzzzknprhcqkonvarhppaikdfzhchqafsziltdocpjsxstkkvnhzicgxaxxymnfmbcfgeyhozfigyeqhpxsmhnuztvtmryufiwfwmczpbuxxvcjxmypprxmffsmlajulpcwvlmlrolhaqenlisqmvglpzyrtynjoafkkbdfjcdajdtjyeaqvqasfjdpcevqanxzelvwawssvdjssukoknlalpwxxnlydnnedqlbgwpfmzpvbncbezafxs\""
   ]
  },
  {
   "cell_type": "code",
   "execution_count": 25,
   "id": "9c2c3924",
   "metadata": {},
   "outputs": [],
   "source": [
    "s=\"abciiidef\""
   ]
  },
  {
   "cell_type": "code",
   "execution_count": 32,
   "id": "6f7c6fb1",
   "metadata": {},
   "outputs": [
    {
     "data": {
      "text/plain": [
       "66499"
      ]
     },
     "execution_count": 32,
     "metadata": {},
     "output_type": "execute_result"
    }
   ],
   "source": [
    "len(s)"
   ]
  },
  {
   "cell_type": "code",
   "execution_count": 4,
   "id": "ea79b8f9",
   "metadata": {},
   "outputs": [
    {
     "data": {
      "text/plain": [
       "'def'"
      ]
     },
     "execution_count": 4,
     "metadata": {},
     "output_type": "execute_result"
    }
   ],
   "source": [
    "s[6:9]"
   ]
  },
  {
   "cell_type": "code",
   "execution_count": null,
   "id": "4227f7dd",
   "metadata": {},
   "outputs": [],
   "source": [
    "def maxVowels(s:str,k:int):\n",
    "    import re\n",
    "    #main_string = 'Allowed Hello Hollow'\n",
    "    vowels_list = ['a','e','i','o','u']\n",
    "    max_cnt=0\n",
    "    cnt=0\n",
    "    for vowel in substring_list:\n",
    "        s[]\n",
    "        for match in re.finditer(vowel, s):\n",
    "            cnt+=1\n",
    "            if max_cnt>cnt:\n",
    "                max_cnt=cnt"
   ]
  },
  {
   "cell_type": "code",
   "execution_count": 30,
   "id": "5afa3c08",
   "metadata": {},
   "outputs": [],
   "source": [
    "# class Solution:\n",
    "#     def maxVowels(self, s: str, k: int) -> int:\n",
    "#         vowels=['a','e','i','o','u']\n",
    "#         max_vowel_cnt=0\n",
    "#         i=0\n",
    "#         #0:k=2\n",
    "#         #1:3\n",
    "#         vowels_dict={}\n",
    "#         while i<len(s):\n",
    "#             vowel_str=s[i:k+i]\n",
    "#             cnt=0\n",
    "#             for indi_vowels in vowel_str:\n",
    "#                 if indi_vowels in vowels:\n",
    "#                     cnt+=1\n",
    "#             i+=1\n",
    "#             if max_vowel_cnt<cnt:\n",
    "#                 max_vowel_cnt=cnt\n",
    "#         return max_vowel_cnt"
   ]
  },
  {
   "cell_type": "code",
   "execution_count": 75,
   "id": "c8bfe8a4",
   "metadata": {},
   "outputs": [],
   "source": [
    "def maxVowels4(s: str, k: int) -> int:\n",
    "    vowel_count = 0\n",
    "    vowels = ['a','e','i','o','u']\n",
    "    m_vowels = 0\n",
    "    for i in range(k):\n",
    "        if s[i] in vowels:\n",
    "            vowel_count+=1\n",
    "            m_vowels = max(m_vowels,vowel_count)\n",
    "    i=0\n",
    "    vowel_count=0\n",
    "    for j in range(k,len(s)):\n",
    "        if s[j] in vowels:\n",
    "            vowel_count+=1\n",
    "#         if s[i] in vowels and k>1:\n",
    "#             vowel_count-=1\n",
    "#         i+=1\n",
    "        m_vowels = max(m_vowels,vowel_count)\n",
    "    return min(m_vowels,k)"
   ]
  },
  {
   "cell_type": "code",
   "execution_count": 42,
   "id": "e4be6c2c",
   "metadata": {},
   "outputs": [],
   "source": [
    "def maxVowels2(s: str, k: int) -> int:\n",
    "    vowels=['a','e','i','o','u']\n",
    "    max_vowel_cnt=0\n",
    "    i=0\n",
    "    j=len(s)\n",
    "    while i<len(s) and i<=j:\n",
    "        vowel_list=[]\n",
    "        vowel_list.append(s[i:k+i])\n",
    "        vowel_list.append(s[j-k-i:j-i])\n",
    "        print(vowel_list)\n",
    "        for vowel_str in vowel_list:\n",
    "            cnt=0\n",
    "            for indi_vowels in vowel_str:\n",
    "                if indi_vowels in vowels:\n",
    "                    cnt+=1\n",
    "            if max_vowel_cnt<cnt:\n",
    "                max_vowel_cnt=cnt\n",
    "        print(max_vowel_cnt,i,j)\n",
    "        i+=1\n",
    "    return max_vowel_cnt"
   ]
  },
  {
   "cell_type": "code",
   "execution_count": 35,
   "id": "f3788929",
   "metadata": {},
   "outputs": [
    {
     "data": {
      "text/plain": [
       "12849"
      ]
     },
     "execution_count": 35,
     "metadata": {},
     "output_type": "execute_result"
    }
   ],
   "source": [
    "cnt"
   ]
  },
  {
   "cell_type": "code",
   "execution_count": 63,
   "id": "59d16e75",
   "metadata": {},
   "outputs": [],
   "source": [
    "s=\"tnfazcwrryitgacaabwm\""
   ]
  },
  {
   "cell_type": "code",
   "execution_count": 41,
   "id": "54e5440c",
   "metadata": {},
   "outputs": [
    {
     "data": {
      "text/plain": [
       "20"
      ]
     },
     "execution_count": 41,
     "metadata": {},
     "output_type": "execute_result"
    }
   ],
   "source": [
    "len(s)"
   ]
  },
  {
   "cell_type": "code",
   "execution_count": 76,
   "id": "14287d87",
   "metadata": {},
   "outputs": [
    {
     "data": {
      "text/plain": [
       "4"
      ]
     },
     "execution_count": 76,
     "metadata": {},
     "output_type": "execute_result"
    }
   ],
   "source": [
    "maxVowels4(s,k=4)"
   ]
  },
  {
   "cell_type": "code",
   "execution_count": 58,
   "id": "9eddab80",
   "metadata": {},
   "outputs": [],
   "source": [
    "t1=\"ghghaywaaaa\""
   ]
  },
  {
   "cell_type": "code",
   "execution_count": 57,
   "id": "b9512406",
   "metadata": {},
   "outputs": [],
   "source": [
    "t1=[]"
   ]
  },
  {
   "cell_type": "code",
   "execution_count": 51,
   "id": "c6db08b3",
   "metadata": {},
   "outputs": [],
   "source": [
    "t2=set(\"aeiou\")"
   ]
  },
  {
   "cell_type": "code",
   "execution_count": 60,
   "id": "ee36746c",
   "metadata": {},
   "outputs": [
    {
     "data": {
      "text/plain": [
       "10"
      ]
     },
     "execution_count": 60,
     "metadata": {},
     "output_type": "execute_result"
    }
   ],
   "source": [
    "t1.rfind(\"a\")"
   ]
  },
  {
   "cell_type": "code",
   "execution_count": 52,
   "id": "284724a8",
   "metadata": {},
   "outputs": [
    {
     "data": {
      "text/plain": [
       "{'a'}"
      ]
     },
     "execution_count": 52,
     "metadata": {},
     "output_type": "execute_result"
    }
   ],
   "source": [
    "t2.intersection(t1)"
   ]
  },
  {
   "cell_type": "code",
   "execution_count": null,
   "id": "c57dd86c",
   "metadata": {},
   "outputs": [],
   "source": []
  }
 ],
 "metadata": {
  "kernelspec": {
   "display_name": "Python 3 (ipykernel)",
   "language": "python",
   "name": "python3"
  },
  "language_info": {
   "codemirror_mode": {
    "name": "ipython",
    "version": 3
   },
   "file_extension": ".py",
   "mimetype": "text/x-python",
   "name": "python",
   "nbconvert_exporter": "python",
   "pygments_lexer": "ipython3",
   "version": "3.10.9"
  }
 },
 "nbformat": 4,
 "nbformat_minor": 5
}
