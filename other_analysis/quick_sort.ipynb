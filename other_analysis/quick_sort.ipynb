{
 "cells": [
  {
   "cell_type": "code",
   "execution_count": 14,
   "id": "6779f510",
   "metadata": {},
   "outputs": [],
   "source": [
    "def quick_sort(sequence):\n",
    "    if len(sequence)<=1:\n",
    "        print(sequence,'****seq')\n",
    "        return sequence\n",
    "    else:\n",
    "        pivot=sequence.pop()\n",
    "        left_ele=[]\n",
    "        right_ele=[]\n",
    "        for data in sequence:\n",
    "            if data< pivot:\n",
    "                left_ele.append(data)\n",
    "            else:\n",
    "                right_ele.append(data)\n",
    "        print(left_ele,'**pivot',pivot,right_ele)\n",
    "        return quick_sort(left_ele)+[pivot]+quick_sort(right_ele)"
   ]
  },
  {
   "cell_type": "code",
   "execution_count": 23,
   "id": "e0b0b186",
   "metadata": {},
   "outputs": [],
   "source": [
    "class Solution:\n",
    "    def sortArray(self, sequence):\n",
    "        if len(sequence)<=1:\n",
    "            return sequence\n",
    "        else:\n",
    "            pivot=sequence.pop()\n",
    "            left_ele=[]\n",
    "            right_ele=[]\n",
    "            for data in sequence:\n",
    "                if data< pivot:\n",
    "                    left_ele.append(data)\n",
    "                else:\n",
    "                    right_ele.append(data)\n",
    "            return self.sortArray(left_ele)+[pivot]+self.sortArray(right_ele)"
   ]
  },
  {
   "cell_type": "code",
   "execution_count": 25,
   "id": "62956d33",
   "metadata": {},
   "outputs": [],
   "source": [
    "obj=Solution()"
   ]
  },
  {
   "cell_type": "code",
   "execution_count": 26,
   "id": "4e95a458",
   "metadata": {},
   "outputs": [
    {
     "data": {
      "text/plain": [
       "[0, 2, 3, 5, 8, 9]"
      ]
     },
     "execution_count": 26,
     "metadata": {},
     "output_type": "execute_result"
    }
   ],
   "source": [
    "obj.sortArray([0,3,2,5,9,8])"
   ]
  },
  {
   "cell_type": "code",
   "execution_count": 15,
   "id": "f507688f",
   "metadata": {},
   "outputs": [
    {
     "name": "stdout",
     "output_type": "stream",
     "text": [
      "[0, 3, 2, 5] **pivot 8 [9]\n",
      "[0, 3, 2] **pivot 5 []\n",
      "[0] **pivot 2 [3]\n",
      "[0] ****seq\n",
      "[3] ****seq\n",
      "[] ****seq\n",
      "[9] ****seq\n"
     ]
    },
    {
     "data": {
      "text/plain": [
       "[0, 2, 3, 5, 8, 9]"
      ]
     },
     "execution_count": 15,
     "metadata": {},
     "output_type": "execute_result"
    }
   ],
   "source": [
    "quick_sort([0,3,2,5,9,8])"
   ]
  },
  {
   "cell_type": "code",
   "execution_count": 5,
   "id": "4d93795f",
   "metadata": {},
   "outputs": [
    {
     "name": "stdout",
     "output_type": "stream",
     "text": [
      "[0, 3, 2, 5, 8] **pivot 9 []\n"
     ]
    }
   ],
   "source": [
    "quick_sort([0,3,2,5,8,9])"
   ]
  },
  {
   "cell_type": "code",
   "execution_count": 6,
   "id": "a433fb69",
   "metadata": {},
   "outputs": [
    {
     "name": "stdout",
     "output_type": "stream",
     "text": [
      "[0, 3, 2, 5, 8] **pivot 9 []\n"
     ]
    }
   ],
   "source": [
    "quick_sort([0,3,2,5,8,9])"
   ]
  },
  {
   "cell_type": "code",
   "execution_count": 1,
   "id": "860b32f3",
   "metadata": {},
   "outputs": [],
   "source": [
    "mylist=[-1,0,1,2,-1,-4]"
   ]
  },
  {
   "cell_type": "code",
   "execution_count": 2,
   "id": "b32d15e9",
   "metadata": {},
   "outputs": [
    {
     "data": {
      "text/plain": [
       "[-4, -1, -1, 0, 1, 2]"
      ]
     },
     "execution_count": 2,
     "metadata": {},
     "output_type": "execute_result"
    }
   ],
   "source": [
    "sorted(mylist)"
   ]
  }
 ],
 "metadata": {
  "kernelspec": {
   "display_name": "Python 3 (ipykernel)",
   "language": "python",
   "name": "python3"
  },
  "language_info": {
   "codemirror_mode": {
    "name": "ipython",
    "version": 3
   },
   "file_extension": ".py",
   "mimetype": "text/x-python",
   "name": "python",
   "nbconvert_exporter": "python",
   "pygments_lexer": "ipython3",
   "version": "3.10.9"
  }
 },
 "nbformat": 4,
 "nbformat_minor": 5
}
