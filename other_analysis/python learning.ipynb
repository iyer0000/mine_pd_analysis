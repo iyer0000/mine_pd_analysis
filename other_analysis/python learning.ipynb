{
 "cells": [
  {
   "cell_type": "code",
   "execution_count": 1,
   "id": "eecdc8f6",
   "metadata": {},
   "outputs": [],
   "source": [
    "a=\"apple\""
   ]
  },
  {
   "cell_type": "code",
   "execution_count": 2,
   "id": "9ab79bf7",
   "metadata": {},
   "outputs": [],
   "source": [
    "b=\"apple\""
   ]
  },
  {
   "cell_type": "code",
   "execution_count": 3,
   "id": "69ec3134",
   "metadata": {},
   "outputs": [
    {
     "data": {
      "text/plain": [
       "1840836030704"
      ]
     },
     "execution_count": 3,
     "metadata": {},
     "output_type": "execute_result"
    }
   ],
   "source": [
    "id(a)"
   ]
  },
  {
   "cell_type": "code",
   "execution_count": 4,
   "id": "b9e890df",
   "metadata": {},
   "outputs": [
    {
     "data": {
      "text/plain": [
       "1840836030704"
      ]
     },
     "execution_count": 4,
     "metadata": {},
     "output_type": "execute_result"
    }
   ],
   "source": [
    "id(b)"
   ]
  },
  {
   "cell_type": "code",
   "execution_count": 5,
   "id": "d5501ea5",
   "metadata": {},
   "outputs": [
    {
     "data": {
      "text/plain": [
       "True"
      ]
     },
     "execution_count": 5,
     "metadata": {},
     "output_type": "execute_result"
    }
   ],
   "source": [
    "a is b"
   ]
  },
  {
   "cell_type": "code",
   "execution_count": 6,
   "id": "62706622",
   "metadata": {},
   "outputs": [],
   "source": [
    "a=[1,2,3]"
   ]
  },
  {
   "cell_type": "code",
   "execution_count": 7,
   "id": "33ca30dc",
   "metadata": {},
   "outputs": [],
   "source": [
    "b=[1,2,3]"
   ]
  },
  {
   "cell_type": "code",
   "execution_count": 8,
   "id": "29beeee1",
   "metadata": {},
   "outputs": [
    {
     "data": {
      "text/plain": [
       "False"
      ]
     },
     "execution_count": 8,
     "metadata": {},
     "output_type": "execute_result"
    }
   ],
   "source": [
    "a is b"
   ]
  },
  {
   "cell_type": "code",
   "execution_count": 9,
   "id": "ccadb23d",
   "metadata": {},
   "outputs": [],
   "source": [
    "t1=(1,2)"
   ]
  },
  {
   "cell_type": "code",
   "execution_count": 10,
   "id": "d86655eb",
   "metadata": {},
   "outputs": [],
   "source": [
    "t2=t1"
   ]
  },
  {
   "cell_type": "code",
   "execution_count": 12,
   "id": "27e75c48",
   "metadata": {},
   "outputs": [
    {
     "data": {
      "text/plain": [
       "1840836403072"
      ]
     },
     "execution_count": 12,
     "metadata": {},
     "output_type": "execute_result"
    }
   ],
   "source": [
    "id(t1)"
   ]
  },
  {
   "cell_type": "code",
   "execution_count": 27,
   "id": "2bd2ce64",
   "metadata": {},
   "outputs": [],
   "source": [
    "class A:\n",
    "    def method(self):\n",
    "        print(\"inside a\")\n",
    "class B(A):\n",
    "    pass\n",
    "    #def method(self):\n",
    "    #    print(\"inside b\")\n",
    "class C(A):\n",
    "    pass\n",
    "    #def method(self):\n",
    "    #    print(\"inside c\")\n",
    "class D(B,C):\n",
    "    def method(self):\n",
    "        print(\"inside D\")\n",
    "    pass"
   ]
  },
  {
   "cell_type": "code",
   "execution_count": 28,
   "id": "3469be62",
   "metadata": {},
   "outputs": [],
   "source": [
    "obj=D()"
   ]
  },
  {
   "cell_type": "code",
   "execution_count": 34,
   "id": "ce258d4b",
   "metadata": {},
   "outputs": [
    {
     "name": "stdout",
     "output_type": "stream",
     "text": [
      "Method in D\n"
     ]
    }
   ],
   "source": [
    "obj.method()"
   ]
  },
  {
   "cell_type": "code",
   "execution_count": 30,
   "id": "8ddf9f35",
   "metadata": {},
   "outputs": [],
   "source": [
    "class A:\n",
    "    def method(self):\n",
    "        print(\"Method in A\")\n",
    "\n",
    "class B(A):\n",
    "    def method(self):\n",
    "        print(\"Method in B\")\n",
    "\n",
    "class C(A):\n",
    "    def method(self):\n",
    "        print(\"Method in C\")\n",
    "\n",
    "class D(B, C):\n",
    "    def method(self):\n",
    "        print(\"Method in D\")\n",
    "\n",
    "class E(D):\n",
    "    def method(self):\n",
    "        print(\"Method in E\")\n",
    "#c3 linearization for mro"
   ]
  },
  {
   "cell_type": "code",
   "execution_count": 33,
   "id": "381e8208",
   "metadata": {},
   "outputs": [],
   "source": [
    "obj=D()"
   ]
  },
  {
   "cell_type": "code",
   "execution_count": 38,
   "id": "e5caf06e",
   "metadata": {},
   "outputs": [],
   "source": [
    "class Myclass:\n",
    "    def __init__(self,x,y):\n",
    "        self.x=x\n",
    "        self.y=y\n",
    "    #def __str__(self):\n",
    "    #    return f\"Myclass implementation with {self.x} and {self.y}\""
   ]
  },
  {
   "cell_type": "code",
   "execution_count": 39,
   "id": "1aea8224",
   "metadata": {},
   "outputs": [],
   "source": [
    "obj1=Myclass(2,3)"
   ]
  },
  {
   "cell_type": "code",
   "execution_count": 40,
   "id": "41a641d2",
   "metadata": {},
   "outputs": [
    {
     "data": {
      "text/plain": [
       "'<__main__.Myclass object at 0x000001AC9A9A02B0>'"
      ]
     },
     "execution_count": 40,
     "metadata": {},
     "output_type": "execute_result"
    }
   ],
   "source": [
    "str(obj1)"
   ]
  },
  {
   "cell_type": "code",
   "execution_count": 41,
   "id": "e34b1406",
   "metadata": {},
   "outputs": [],
   "source": [
    "class Parent:\n",
    "    def greet(self):\n",
    "        print(\"I am from parent\")\n",
    "class Child(Parent):\n",
    "    def greet(self):\n",
    "        super().greet() #calls the parent class and attributes\n",
    "        print(\"i am child\")\n",
    "    "
   ]
  },
  {
   "cell_type": "code",
   "execution_count": 42,
   "id": "4b935963",
   "metadata": {},
   "outputs": [],
   "source": [
    "obj=Child()"
   ]
  },
  {
   "cell_type": "code",
   "execution_count": 43,
   "id": "33ddd41e",
   "metadata": {},
   "outputs": [
    {
     "name": "stdout",
     "output_type": "stream",
     "text": [
      "I am from parent\n",
      "i am child\n"
     ]
    }
   ],
   "source": [
    "obj.greet()"
   ]
  },
  {
   "cell_type": "code",
   "execution_count": 44,
   "id": "522cc30e",
   "metadata": {},
   "outputs": [],
   "source": [
    "class Parent:\n",
    "    def __init__(self):\n",
    "        self._private_variable = 42\n",
    "\n",
    "    def _private_method(self):\n",
    "        print(\"This is a private method in Parent\")"
   ]
  },
  {
   "cell_type": "code",
   "execution_count": 50,
   "id": "e40348ee",
   "metadata": {},
   "outputs": [],
   "source": [
    "class Child(Parent):\n",
    "    def __init__(self):\n",
    "        super().__init__()\n",
    "    def child_method(self):\n",
    "        print(f\"accessing private variable {self._private_variable}\")\n",
    "    def access_private(self):\n",
    "        self._private_method()"
   ]
  },
  {
   "cell_type": "code",
   "execution_count": 51,
   "id": "086045a7",
   "metadata": {},
   "outputs": [],
   "source": [
    "obj=Child()"
   ]
  },
  {
   "cell_type": "code",
   "execution_count": 52,
   "id": "ae935c04",
   "metadata": {},
   "outputs": [
    {
     "name": "stdout",
     "output_type": "stream",
     "text": [
      "accessing private variable 42\n"
     ]
    }
   ],
   "source": [
    "obj.child_method()"
   ]
  },
  {
   "cell_type": "code",
   "execution_count": 53,
   "id": "7b8c3cd2",
   "metadata": {},
   "outputs": [
    {
     "name": "stdout",
     "output_type": "stream",
     "text": [
      "This is a private method in Parent\n"
     ]
    }
   ],
   "source": [
    "obj.access_private()"
   ]
  },
  {
   "cell_type": "code",
   "execution_count": 54,
   "id": "5b34cd5c",
   "metadata": {},
   "outputs": [
    {
     "name": "stdout",
     "output_type": "stream",
     "text": [
      "This is a private method in Parent\n"
     ]
    }
   ],
   "source": [
    "obj._private_method()"
   ]
  },
  {
   "cell_type": "code",
   "execution_count": 74,
   "id": "d6711197",
   "metadata": {},
   "outputs": [],
   "source": [
    "class MyClass:\n",
    "    def __init__(self):\n",
    "        self.__private_var = 42\n",
    "\n",
    "    def __private_method(self):\n",
    "        print(\"This is a private method\")\n",
    "        \n",
    "class Child(MyClass):\n",
    "    def test(self):\n",
    "        #via name mangling private method\n",
    "        self._MyClass__private_method()\n",
    "\n",
    "obj = Child()"
   ]
  },
  {
   "cell_type": "code",
   "execution_count": 75,
   "id": "deccd91b",
   "metadata": {},
   "outputs": [
    {
     "name": "stdout",
     "output_type": "stream",
     "text": [
      "This is a private method\n"
     ]
    }
   ],
   "source": [
    "obj.test()"
   ]
  },
  {
   "cell_type": "code",
   "execution_count": 77,
   "id": "a7fbc31e",
   "metadata": {},
   "outputs": [
    {
     "name": "stdout",
     "output_type": "stream",
     "text": [
      "42\n"
     ]
    }
   ],
   "source": [
    "print(obj._MyClass__private_var) #name mangling the private method"
   ]
  }
 ],
 "metadata": {
  "kernelspec": {
   "display_name": "Python 3 (ipykernel)",
   "language": "python",
   "name": "python3"
  },
  "language_info": {
   "codemirror_mode": {
    "name": "ipython",
    "version": 3
   },
   "file_extension": ".py",
   "mimetype": "text/x-python",
   "name": "python",
   "nbconvert_exporter": "python",
   "pygments_lexer": "ipython3",
   "version": "3.10.9"
  }
 },
 "nbformat": 4,
 "nbformat_minor": 5
}
