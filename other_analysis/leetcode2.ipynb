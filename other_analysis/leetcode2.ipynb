{
 "cells": [
  {
   "cell_type": "code",
   "execution_count": 1,
   "id": "1ff989c3",
   "metadata": {},
   "outputs": [],
   "source": [
    "#find median from two arrays"
   ]
  },
  {
   "cell_type": "code",
   "execution_count": 25,
   "id": "d072df5a",
   "metadata": {},
   "outputs": [],
   "source": [
    "a1=[1,2,3]\n",
    "a2=[2]"
   ]
  },
  {
   "cell_type": "code",
   "execution_count": 26,
   "id": "6912d56a",
   "metadata": {},
   "outputs": [],
   "source": [
    "a1.extend(a2)"
   ]
  },
  {
   "cell_type": "code",
   "execution_count": 27,
   "id": "ff33929f",
   "metadata": {},
   "outputs": [],
   "source": [
    "a1=sorted(a1)"
   ]
  },
  {
   "cell_type": "code",
   "execution_count": 37,
   "id": "34873078",
   "metadata": {},
   "outputs": [
    {
     "data": {
      "text/plain": [
       "[1, 2, 2, 3]"
      ]
     },
     "execution_count": 37,
     "metadata": {},
     "output_type": "execute_result"
    }
   ],
   "source": [
    "a1"
   ]
  },
  {
   "cell_type": "code",
   "execution_count": 23,
   "id": "107feb8c",
   "metadata": {},
   "outputs": [],
   "source": [
    "def find_median(merged_array:list):\n",
    "    if len(merged_array)%2==0:#even\n",
    "        print(merged_array[(len(merged_array)//2)+len(merged_array)//2-1]/2)\n",
    "        pass\n",
    "    else:\n",
    "        return merged_array[len(merged_array)//2]"
   ]
  },
  {
   "cell_type": "code",
   "execution_count": null,
   "id": "0e546ee6",
   "metadata": {},
   "outputs": [],
   "source": []
  },
  {
   "cell_type": "code",
   "execution_count": 40,
   "id": "62682a20",
   "metadata": {},
   "outputs": [],
   "source": [
    "def median(array):\n",
    "    if len(array) < 1:\n",
    "        return None\n",
    "    if len(array) % 2 == 0:\n",
    "        middle_indices = len(array) // 2 - 1, len(array) // 2\n",
    "        print(middle_indices)\n",
    "        return sum(array[i] for i in middle_indices) / 2\n",
    "    else:\n",
    "        return array[len(array) // 2]"
   ]
  },
  {
   "cell_type": "code",
   "execution_count": 41,
   "id": "21714825",
   "metadata": {},
   "outputs": [
    {
     "name": "stdout",
     "output_type": "stream",
     "text": [
      "(1, 2)\n"
     ]
    }
   ],
   "source": [
    "ans=median(a1)"
   ]
  },
  {
   "cell_type": "code",
   "execution_count": 39,
   "id": "2e0eb614",
   "metadata": {},
   "outputs": [
    {
     "data": {
      "text/plain": [
       "2.0"
      ]
     },
     "execution_count": 39,
     "metadata": {},
     "output_type": "execute_result"
    }
   ],
   "source": [
    "ans"
   ]
  },
  {
   "cell_type": "code",
   "execution_count": 29,
   "id": "d0292bce",
   "metadata": {},
   "outputs": [
    {
     "name": "stdout",
     "output_type": "stream",
     "text": [
      "1.5\n"
     ]
    }
   ],
   "source": [
    "find_median(a1)"
   ]
  },
  {
   "cell_type": "code",
   "execution_count": 30,
   "id": "0e6fc9e3",
   "metadata": {},
   "outputs": [],
   "source": [
    "import numpy as np"
   ]
  },
  {
   "cell_type": "code",
   "execution_count": 33,
   "id": "8318bad3",
   "metadata": {},
   "outputs": [],
   "source": [
    "merged_array=a1"
   ]
  },
  {
   "cell_type": "code",
   "execution_count": 34,
   "id": "2d6899a2",
   "metadata": {},
   "outputs": [
    {
     "name": "stdout",
     "output_type": "stream",
     "text": [
      "1.5\n"
     ]
    }
   ],
   "source": [
    "if len(merged_array)%2==0:\n",
    "    print(merged_array[len(merged_array)//2+(len(merged_array)//2)-1]/2)\n",
    "    pass\n",
    "else:\n",
    "    print(merged_array[len(merged_array)//2])"
   ]
  },
  {
   "cell_type": "code",
   "execution_count": 35,
   "id": "c61c8987",
   "metadata": {},
   "outputs": [
    {
     "data": {
      "text/plain": [
       "2.0"
      ]
     },
     "execution_count": 35,
     "metadata": {},
     "output_type": "execute_result"
    }
   ],
   "source": [
    "np.median(a1)"
   ]
  },
  {
   "cell_type": "code",
   "execution_count": null,
   "id": "f08e921e",
   "metadata": {},
   "outputs": [],
   "source": []
  },
  {
   "cell_type": "code",
   "execution_count": null,
   "id": "cc176d6c",
   "metadata": {},
   "outputs": [],
   "source": []
  },
  {
   "cell_type": "code",
   "execution_count": null,
   "id": "ce83934c",
   "metadata": {},
   "outputs": [],
   "source": []
  },
  {
   "cell_type": "code",
   "execution_count": 42,
   "id": "87f664e9",
   "metadata": {},
   "outputs": [
    {
     "data": {
      "text/plain": [
       "1"
      ]
     },
     "execution_count": 42,
     "metadata": {},
     "output_type": "execute_result"
    }
   ],
   "source": [
    "len(a1)//2-1"
   ]
  },
  {
   "cell_type": "code",
   "execution_count": 43,
   "id": "96024590",
   "metadata": {},
   "outputs": [
    {
     "data": {
      "text/plain": [
       "[1, 2, 2, 3]"
      ]
     },
     "execution_count": 43,
     "metadata": {},
     "output_type": "execute_result"
    }
   ],
   "source": [
    "a1"
   ]
  },
  {
   "cell_type": "code",
   "execution_count": null,
   "id": "d121f90e",
   "metadata": {},
   "outputs": [],
   "source": []
  },
  {
   "cell_type": "code",
   "execution_count": 49,
   "id": "9652ef9d",
   "metadata": {},
   "outputs": [],
   "source": [
    "def get_median2(merged_array):\n",
    "    if len(merged_array)<1:\n",
    "        return None\n",
    "    elif len(merged_array)%2==0: #even\n",
    "        mid_number=len(merged_array)//2-1,len(merged_array)//2\n",
    "        print(mid_number)\n",
    "        print(sum([ merged_array[i] for i in mid_number])/2)\n",
    "        pass\n",
    "    else:\n",
    "        print(merged_array[len(merged_array)//2])"
   ]
  },
  {
   "cell_type": "code",
   "execution_count": 50,
   "id": "7edd150b",
   "metadata": {},
   "outputs": [
    {
     "name": "stdout",
     "output_type": "stream",
     "text": [
      "(1, 2)\n",
      "2.0\n"
     ]
    }
   ],
   "source": [
    "get_median2(a1)"
   ]
  },
  {
   "cell_type": "code",
   "execution_count": 51,
   "id": "5d98b68f",
   "metadata": {},
   "outputs": [],
   "source": [
    "mydict={\"one\":1,\"two\":2,\"three\":3}"
   ]
  },
  {
   "cell_type": "code",
   "execution_count": 55,
   "id": "0618ed84",
   "metadata": {},
   "outputs": [
    {
     "data": {
      "text/plain": [
       "[('three', 3), ('two', 2), ('one', 1)]"
      ]
     },
     "execution_count": 55,
     "metadata": {},
     "output_type": "execute_result"
    }
   ],
   "source": [
    "sorted(mydict.items(),key=lambda x:x[1],reverse=True)"
   ]
  },
  {
   "cell_type": "code",
   "execution_count": 52,
   "id": "241e210f",
   "metadata": {},
   "outputs": [
    {
     "data": {
      "text/plain": [
       "{'one': 1, 'two': 4, 'three': 9}"
      ]
     },
     "execution_count": 52,
     "metadata": {},
     "output_type": "execute_result"
    }
   ],
   "source": [
    "{key:value**2 for key,value in mydict.items()}"
   ]
  },
  {
   "cell_type": "code",
   "execution_count": null,
   "id": "a9693c46",
   "metadata": {},
   "outputs": [],
   "source": []
  },
  {
   "cell_type": "code",
   "execution_count": null,
   "id": "1d3a62ec",
   "metadata": {},
   "outputs": [],
   "source": []
  },
  {
   "cell_type": "code",
   "execution_count": 56,
   "id": "8347a846",
   "metadata": {},
   "outputs": [],
   "source": [
    "#valid parathesis"
   ]
  },
  {
   "cell_type": "code",
   "execution_count": 57,
   "id": "7ecfda98",
   "metadata": {},
   "outputs": [],
   "source": [
    "valid_open=\"([{\"\n",
    "valid_close=\")]}\""
   ]
  },
  {
   "cell_type": "code",
   "execution_count": 75,
   "id": "1000009b",
   "metadata": {},
   "outputs": [],
   "source": [
    "inpu_str=\"{[}{]}\""
   ]
  },
  {
   "cell_type": "code",
   "execution_count": 78,
   "id": "ea26eb5b",
   "metadata": {},
   "outputs": [],
   "source": [
    "def valid_para(inpu_str):\n",
    "    valid_open=\"([{\"\n",
    "    valid_close=\")]}\"\n",
    "    check_list=[]\n",
    "    for data in inpu_str:\n",
    "        if data in valid_open:\n",
    "            check_list.append(data)\n",
    "        else:\n",
    "            open_data=check_list.pop()\n",
    "            if open_data!=valid_open[valid_close.index(data)]:\n",
    "                return \"unbalanced\"\n",
    "    if len(check_list)==0:\n",
    "        return \"balanced\"\n",
    "    else:\n",
    "        return \"unbalanced\""
   ]
  },
  {
   "cell_type": "code",
   "execution_count": null,
   "id": "8cbeb03f",
   "metadata": {},
   "outputs": [],
   "source": []
  },
  {
   "cell_type": "code",
   "execution_count": 76,
   "id": "7148063f",
   "metadata": {},
   "outputs": [],
   "source": [
    "ans=valid_para(inpu_str)"
   ]
  },
  {
   "cell_type": "code",
   "execution_count": 77,
   "id": "f3f53623",
   "metadata": {},
   "outputs": [
    {
     "data": {
      "text/plain": [
       "'unbalanced'"
      ]
     },
     "execution_count": 77,
     "metadata": {},
     "output_type": "execute_result"
    }
   ],
   "source": [
    "ans"
   ]
  },
  {
   "cell_type": "code",
   "execution_count": 79,
   "id": "777ab50d",
   "metadata": {},
   "outputs": [],
   "source": [
    "nums=[-5]"
   ]
  },
  {
   "cell_type": "code",
   "execution_count": 89,
   "id": "cfb956ca",
   "metadata": {},
   "outputs": [],
   "source": [
    "res=1"
   ]
  },
  {
   "cell_type": "code",
   "execution_count": 90,
   "id": "0564217a",
   "metadata": {},
   "outputs": [],
   "source": [
    "num=1"
   ]
  },
  {
   "cell_type": "code",
   "execution_count": 91,
   "id": "4626817c",
   "metadata": {},
   "outputs": [],
   "source": [
    "res+=res==num"
   ]
  },
  {
   "cell_type": "code",
   "execution_count": 95,
   "id": "c9c5f1d1",
   "metadata": {},
   "outputs": [],
   "source": [
    "res=res+True"
   ]
  },
  {
   "cell_type": "code",
   "execution_count": 96,
   "id": "1473f023",
   "metadata": {},
   "outputs": [
    {
     "data": {
      "text/plain": [
       "3"
      ]
     },
     "execution_count": 96,
     "metadata": {},
     "output_type": "execute_result"
    }
   ],
   "source": [
    "res"
   ]
  },
  {
   "cell_type": "code",
   "execution_count": 87,
   "id": "f6c1c309",
   "metadata": {},
   "outputs": [],
   "source": [
    "def firstMissingPositive(nums, res: int = 1) -> int:\n",
    "    for num in sorted(nums):\n",
    "        res += num == res\n",
    "        print(res,num == res)\n",
    "    return res"
   ]
  },
  {
   "cell_type": "code",
   "execution_count": 88,
   "id": "1151031a",
   "metadata": {},
   "outputs": [
    {
     "name": "stdout",
     "output_type": "stream",
     "text": [
      "1 False\n"
     ]
    },
    {
     "data": {
      "text/plain": [
       "1"
      ]
     },
     "execution_count": 88,
     "metadata": {},
     "output_type": "execute_result"
    }
   ],
   "source": [
    "firstMissingPositive(nums)"
   ]
  },
  {
   "cell_type": "code",
   "execution_count": 97,
   "id": "eb468708",
   "metadata": {},
   "outputs": [],
   "source": [
    "myinputstr='sadbutsad'"
   ]
  },
  {
   "cell_type": "code",
   "execution_count": 98,
   "id": "8a94830f",
   "metadata": {},
   "outputs": [],
   "source": [
    "needle='sad'"
   ]
  },
  {
   "cell_type": "code",
   "execution_count": 101,
   "id": "37971096",
   "metadata": {},
   "outputs": [
    {
     "data": {
      "text/plain": [
       "0"
      ]
     },
     "execution_count": 101,
     "metadata": {},
     "output_type": "execute_result"
    }
   ],
   "source": [
    "myinputstr.find(needle)"
   ]
  },
  {
   "cell_type": "code",
   "execution_count": 103,
   "id": "289a7c36",
   "metadata": {},
   "outputs": [],
   "source": [
    "#[\"eat\",\"tea\",\"tan\",\"ate\",\"nat\",\"bat\"]\n",
    "# Given an array of strings strs, group the anagrams together. You can return the answer in any order.\n",
    "\n",
    "# An Anagram is a word or phrase formed by rearranging the letters of a different word or phrase, typically using all the original letters exactly once.\n",
    "\n",
    " \n",
    "\n",
    "# Example 1:\n",
    "\n",
    "# Input: strs = [\"eat\",\"tea\",\"tan\",\"ate\",\"nat\",\"bat\"]\n",
    "# Output: [[\"bat\"],[\"nat\",\"tan\"],[\"ate\",\"eat\",\"tea\"]]\n",
    "# Example 2:\n",
    "\n",
    "# Input: strs = [\"\"]\n",
    "# Output: [[\"\"]]\n",
    "# Example 3:\n",
    "\n",
    "# Input: strs = [\"a\"]\n",
    "# Output: [[\"a\"]]"
   ]
  },
  {
   "cell_type": "code",
   "execution_count": 104,
   "id": "a083ca0c",
   "metadata": {},
   "outputs": [],
   "source": [
    "myinput_str=[\"eat\",\"tea\",\"tan\",\"ate\",\"nat\",\"bat\"]"
   ]
  },
  {
   "cell_type": "code",
   "execution_count": null,
   "id": "5f130c93",
   "metadata": {},
   "outputs": [],
   "source": [
    "def return_ana(strs):\n",
    "    strs=sorted(strs)\n",
    "    mydata=[]\n",
    "    skip=[]\n",
    "    for index,_ in enumerate(strs):\n",
    "        temp=[]\n",
    "        if _[::-1] in strs:\n",
    "            temp.append(_)\n",
    "            temp.append(_[::-1])\n",
    "            skip.append(mydata.index(_))\n",
    "        else:\n",
    "            \n",
    "            "
   ]
  },
  {
   "cell_type": "code",
   "execution_count": 107,
   "id": "a35206ee",
   "metadata": {},
   "outputs": [],
   "source": [
    "s = \"leetcode\"\n",
    "wordDict = [\"leet\",\"code\"]"
   ]
  },
  {
   "cell_type": "code",
   "execution_count": 112,
   "id": "c8d7cdd4",
   "metadata": {},
   "outputs": [],
   "source": [
    "s=\"bb\"\n",
    "wordDict =[\"a\",\"b\",\"bbb\",\"bbbb\"]"
   ]
  },
  {
   "cell_type": "code",
   "execution_count": 113,
   "id": "562981e9",
   "metadata": {},
   "outputs": [],
   "source": [
    "if s in wordDict:\n",
    "    print(True)"
   ]
  },
  {
   "cell_type": "code",
   "execution_count": 110,
   "id": "c87e6841",
   "metadata": {},
   "outputs": [
    {
     "name": "stdout",
     "output_type": "stream",
     "text": [
      "True\n"
     ]
    }
   ],
   "source": [
    "if ''.join(wordDict) in s:\n",
    "    print(True)\n",
    "else:\n",
    "    print(False)"
   ]
  },
  {
   "cell_type": "code",
   "execution_count": 134,
   "id": "403d10ee",
   "metadata": {},
   "outputs": [],
   "source": [
    "val=[5,4,3,2,1,1,3,4,5,6]"
   ]
  },
  {
   "cell_type": "code",
   "execution_count": 124,
   "id": "f5d4c75c",
   "metadata": {},
   "outputs": [
    {
     "data": {
      "text/plain": [
       "4"
      ]
     },
     "execution_count": 124,
     "metadata": {},
     "output_type": "execute_result"
    }
   ],
   "source": [
    "(len(val)-1)//2"
   ]
  },
  {
   "cell_type": "code",
   "execution_count": 139,
   "id": "e7f97973",
   "metadata": {},
   "outputs": [],
   "source": [
    "def quick_sort(val):\n",
    "    if len(val)<=1:\n",
    "        return val\n",
    "    left=[]\n",
    "    right=[]\n",
    "    middle=[]\n",
    "    print(len(val)//2)\n",
    "    pivot=val[len(val)//2]\n",
    "    for i in val:\n",
    "        if i<pivot:\n",
    "            left.append(i)\n",
    "        elif i>pivot:\n",
    "            right.append(i)\n",
    "        elif i==pivot:\n",
    "            middle.append(i)\n",
    "    return quick_sort(left)+middle+quick_sort(right)"
   ]
  },
  {
   "cell_type": "code",
   "execution_count": 138,
   "id": "d46e7bdc",
   "metadata": {},
   "outputs": [
    {
     "name": "stdout",
     "output_type": "stream",
     "text": [
      "5\n",
      "4\n",
      "2\n",
      "1\n"
     ]
    },
    {
     "data": {
      "text/plain": [
       "[1, 1, 2, 3, 3, 4, 4, 5, 5, 6]"
      ]
     },
     "execution_count": 138,
     "metadata": {},
     "output_type": "execute_result"
    }
   ],
   "source": [
    "quick_sort(val)"
   ]
  }
 ],
 "metadata": {
  "kernelspec": {
   "display_name": "Python 3 (ipykernel)",
   "language": "python",
   "name": "python3"
  },
  "language_info": {
   "codemirror_mode": {
    "name": "ipython",
    "version": 3
   },
   "file_extension": ".py",
   "mimetype": "text/x-python",
   "name": "python",
   "nbconvert_exporter": "python",
   "pygments_lexer": "ipython3",
   "version": "3.10.9"
  }
 },
 "nbformat": 4,
 "nbformat_minor": 5
}
