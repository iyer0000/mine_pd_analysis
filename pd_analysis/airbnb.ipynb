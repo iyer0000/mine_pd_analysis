{
 "cells": [
  {
   "cell_type": "code",
   "execution_count": 1,
   "id": "90bef024",
   "metadata": {},
   "outputs": [],
   "source": [
    "import pandas as pd\n",
    "\n",
    "listings = pd.read_csv(\"https://storage.googleapis.com/public-data-337819/listings%202%20reduced.csv\",low_memory=False)"
   ]
  },
  {
   "cell_type": "code",
   "execution_count": null,
   "id": "83e59231",
   "metadata": {},
   "outputs": [],
   "source": [
    "listings.head()"
   ]
  },
  {
   "cell_type": "code",
   "execution_count": 2,
   "id": "c7fdc8b6",
   "metadata": {},
   "outputs": [],
   "source": [
    "listings_df=listings[['price','neighbourhood_cleansed','host_is_superhost']]"
   ]
  },
  {
   "cell_type": "code",
   "execution_count": null,
   "id": "9fdf5cf4",
   "metadata": {},
   "outputs": [],
   "source": [
    "listings_df.head()"
   ]
  },
  {
   "cell_type": "code",
   "execution_count": null,
   "id": "e116035e",
   "metadata": {},
   "outputs": [],
   "source": [
    "# What is the neighborhood in which \n",
    "\n",
    "# superhosts have the biggest median price \n",
    "# difference with respect to non superhosts? \n",
    "# Use the following three columns in the 'listings' dataset to answer this question: 'host_is_superhost', 'neighbourhood_cleansed', and 'price'."
   ]
  },
  {
   "cell_type": "code",
   "execution_count": 3,
   "id": "9a78cff2",
   "metadata": {},
   "outputs": [
    {
     "name": "stderr",
     "output_type": "stream",
     "text": [
      "C:\\Users\\LAXMAN\\AppData\\Local\\Temp\\ipykernel_5068\\3921661578.py:1: SettingWithCopyWarning: \n",
      "A value is trying to be set on a copy of a slice from a DataFrame.\n",
      "Try using .loc[row_indexer,col_indexer] = value instead\n",
      "\n",
      "See the caveats in the documentation: https://pandas.pydata.org/pandas-docs/stable/user_guide/indexing.html#returning-a-view-versus-a-copy\n",
      "  listings_df['price']=listings_df['price'].str.replace('$','').str.replace(',','').astype(float)\n"
     ]
    }
   ],
   "source": [
    "listings_df['price']=listings_df['price'].str.replace('$','').str.replace(',','').astype(float)"
   ]
  },
  {
   "cell_type": "code",
   "execution_count": 4,
   "id": "301ec791",
   "metadata": {},
   "outputs": [],
   "source": [
    "non_super_host=listings_df[listings_df['host_is_superhost']=='f']"
   ]
  },
  {
   "cell_type": "code",
   "execution_count": 5,
   "id": "ca5c7163",
   "metadata": {},
   "outputs": [],
   "source": [
    "super_host=listings_df[listings_df['host_is_superhost']=='t']"
   ]
  },
  {
   "cell_type": "code",
   "execution_count": null,
   "id": "dfb8d1a6",
   "metadata": {},
   "outputs": [],
   "source": [
    "super_host"
   ]
  },
  {
   "cell_type": "code",
   "execution_count": 6,
   "id": "857687c5",
   "metadata": {},
   "outputs": [],
   "source": [
    "super_host_median_df=super_host.groupby(['neighbourhood_cleansed']).agg({'price':\"median\"}).reset_index()"
   ]
  },
  {
   "cell_type": "code",
   "execution_count": 7,
   "id": "f1e18144",
   "metadata": {},
   "outputs": [],
   "source": [
    "non_super_host_median_df=non_super_host.groupby(['neighbourhood_cleansed']).agg({'price':\"median\"}).reset_index()"
   ]
  },
  {
   "cell_type": "code",
   "execution_count": 8,
   "id": "acc54b7f",
   "metadata": {},
   "outputs": [
    {
     "data": {
      "text/html": [
       "<div>\n",
       "<style scoped>\n",
       "    .dataframe tbody tr th:only-of-type {\n",
       "        vertical-align: middle;\n",
       "    }\n",
       "\n",
       "    .dataframe tbody tr th {\n",
       "        vertical-align: top;\n",
       "    }\n",
       "\n",
       "    .dataframe thead th {\n",
       "        text-align: right;\n",
       "    }\n",
       "</style>\n",
       "<table border=\"1\" class=\"dataframe\">\n",
       "  <thead>\n",
       "    <tr style=\"text-align: right;\">\n",
       "      <th></th>\n",
       "      <th>neighbourhood_cleansed</th>\n",
       "      <th>price</th>\n",
       "    </tr>\n",
       "  </thead>\n",
       "  <tbody>\n",
       "    <tr>\n",
       "      <th>0</th>\n",
       "      <td>Barking and Dagenham</td>\n",
       "      <td>63.5</td>\n",
       "    </tr>\n",
       "    <tr>\n",
       "      <th>1</th>\n",
       "      <td>Barnet</td>\n",
       "      <td>112.0</td>\n",
       "    </tr>\n",
       "    <tr>\n",
       "      <th>2</th>\n",
       "      <td>Bexley</td>\n",
       "      <td>50.0</td>\n",
       "    </tr>\n",
       "    <tr>\n",
       "      <th>3</th>\n",
       "      <td>Brent</td>\n",
       "      <td>85.0</td>\n",
       "    </tr>\n",
       "    <tr>\n",
       "      <th>4</th>\n",
       "      <td>Bromley</td>\n",
       "      <td>64.5</td>\n",
       "    </tr>\n",
       "  </tbody>\n",
       "</table>\n",
       "</div>"
      ],
      "text/plain": [
       "  neighbourhood_cleansed  price\n",
       "0   Barking and Dagenham   63.5\n",
       "1                 Barnet  112.0\n",
       "2                 Bexley   50.0\n",
       "3                  Brent   85.0\n",
       "4                Bromley   64.5"
      ]
     },
     "execution_count": 8,
     "metadata": {},
     "output_type": "execute_result"
    }
   ],
   "source": [
    "super_host_median_df.head()"
   ]
  },
  {
   "cell_type": "code",
   "execution_count": 9,
   "id": "ecb38b6c",
   "metadata": {},
   "outputs": [
    {
     "data": {
      "text/html": [
       "<div>\n",
       "<style scoped>\n",
       "    .dataframe tbody tr th:only-of-type {\n",
       "        vertical-align: middle;\n",
       "    }\n",
       "\n",
       "    .dataframe tbody tr th {\n",
       "        vertical-align: top;\n",
       "    }\n",
       "\n",
       "    .dataframe thead th {\n",
       "        text-align: right;\n",
       "    }\n",
       "</style>\n",
       "<table border=\"1\" class=\"dataframe\">\n",
       "  <thead>\n",
       "    <tr style=\"text-align: right;\">\n",
       "      <th></th>\n",
       "      <th>neighbourhood_cleansed</th>\n",
       "      <th>price</th>\n",
       "    </tr>\n",
       "  </thead>\n",
       "  <tbody>\n",
       "    <tr>\n",
       "      <th>0</th>\n",
       "      <td>Barking and Dagenham</td>\n",
       "      <td>75.0</td>\n",
       "    </tr>\n",
       "    <tr>\n",
       "      <th>1</th>\n",
       "      <td>Barnet</td>\n",
       "      <td>89.0</td>\n",
       "    </tr>\n",
       "    <tr>\n",
       "      <th>2</th>\n",
       "      <td>Bexley</td>\n",
       "      <td>70.0</td>\n",
       "    </tr>\n",
       "    <tr>\n",
       "      <th>3</th>\n",
       "      <td>Brent</td>\n",
       "      <td>91.0</td>\n",
       "    </tr>\n",
       "    <tr>\n",
       "      <th>4</th>\n",
       "      <td>Bromley</td>\n",
       "      <td>79.0</td>\n",
       "    </tr>\n",
       "  </tbody>\n",
       "</table>\n",
       "</div>"
      ],
      "text/plain": [
       "  neighbourhood_cleansed  price\n",
       "0   Barking and Dagenham   75.0\n",
       "1                 Barnet   89.0\n",
       "2                 Bexley   70.0\n",
       "3                  Brent   91.0\n",
       "4                Bromley   79.0"
      ]
     },
     "execution_count": 9,
     "metadata": {},
     "output_type": "execute_result"
    }
   ],
   "source": [
    "non_super_host_median_df.head()"
   ]
  },
  {
   "cell_type": "code",
   "execution_count": 10,
   "id": "00363b9a",
   "metadata": {},
   "outputs": [],
   "source": [
    "merged_df=pd.merge(super_host,non_super_host,how='left',on='neighbourhood_cleansed',suffixes=['_super','_nonsuper'])"
   ]
  },
  {
   "cell_type": "code",
   "execution_count": 11,
   "id": "15825222",
   "metadata": {},
   "outputs": [
    {
     "data": {
      "text/plain": [
       "(51221466, 5)"
      ]
     },
     "execution_count": 11,
     "metadata": {},
     "output_type": "execute_result"
    }
   ],
   "source": [
    "merged_df.shape"
   ]
  },
  {
   "cell_type": "code",
   "execution_count": null,
   "id": "0d0f7405",
   "metadata": {},
   "outputs": [],
   "source": [
    "merged_df.head()"
   ]
  },
  {
   "cell_type": "code",
   "execution_count": 12,
   "id": "49e47cdc",
   "metadata": {},
   "outputs": [],
   "source": [
    "merged_df['super_nonsuperdiff']=merged_df['price_super']-merged_df['price_nonsuper']"
   ]
  },
  {
   "cell_type": "code",
   "execution_count": 16,
   "id": "69a97fbe",
   "metadata": {},
   "outputs": [
    {
     "data": {
      "text/html": [
       "<div>\n",
       "<style scoped>\n",
       "    .dataframe tbody tr th:only-of-type {\n",
       "        vertical-align: middle;\n",
       "    }\n",
       "\n",
       "    .dataframe tbody tr th {\n",
       "        vertical-align: top;\n",
       "    }\n",
       "\n",
       "    .dataframe thead th {\n",
       "        text-align: right;\n",
       "    }\n",
       "</style>\n",
       "<table border=\"1\" class=\"dataframe\">\n",
       "  <thead>\n",
       "    <tr style=\"text-align: right;\">\n",
       "      <th></th>\n",
       "      <th>price_super</th>\n",
       "      <th>neighbourhood_cleansed</th>\n",
       "      <th>host_is_superhost_super</th>\n",
       "      <th>price_nonsuper</th>\n",
       "      <th>host_is_superhost_nonsuper</th>\n",
       "      <th>super_nonsuperdiff</th>\n",
       "    </tr>\n",
       "  </thead>\n",
       "  <tbody>\n",
       "    <tr>\n",
       "      <th>0</th>\n",
       "      <td>46.0</td>\n",
       "      <td>Greenwich</td>\n",
       "      <td>t</td>\n",
       "      <td>40.0</td>\n",
       "      <td>f</td>\n",
       "      <td>6.0</td>\n",
       "    </tr>\n",
       "    <tr>\n",
       "      <th>1</th>\n",
       "      <td>46.0</td>\n",
       "      <td>Greenwich</td>\n",
       "      <td>t</td>\n",
       "      <td>65.0</td>\n",
       "      <td>f</td>\n",
       "      <td>-19.0</td>\n",
       "    </tr>\n",
       "    <tr>\n",
       "      <th>2</th>\n",
       "      <td>46.0</td>\n",
       "      <td>Greenwich</td>\n",
       "      <td>t</td>\n",
       "      <td>100.0</td>\n",
       "      <td>f</td>\n",
       "      <td>-54.0</td>\n",
       "    </tr>\n",
       "    <tr>\n",
       "      <th>3</th>\n",
       "      <td>46.0</td>\n",
       "      <td>Greenwich</td>\n",
       "      <td>t</td>\n",
       "      <td>250.0</td>\n",
       "      <td>f</td>\n",
       "      <td>-204.0</td>\n",
       "    </tr>\n",
       "    <tr>\n",
       "      <th>4</th>\n",
       "      <td>46.0</td>\n",
       "      <td>Greenwich</td>\n",
       "      <td>t</td>\n",
       "      <td>150.0</td>\n",
       "      <td>f</td>\n",
       "      <td>-104.0</td>\n",
       "    </tr>\n",
       "  </tbody>\n",
       "</table>\n",
       "</div>"
      ],
      "text/plain": [
       "   price_super neighbourhood_cleansed host_is_superhost_super  price_nonsuper  \\\n",
       "0         46.0              Greenwich                       t            40.0   \n",
       "1         46.0              Greenwich                       t            65.0   \n",
       "2         46.0              Greenwich                       t           100.0   \n",
       "3         46.0              Greenwich                       t           250.0   \n",
       "4         46.0              Greenwich                       t           150.0   \n",
       "\n",
       "  host_is_superhost_nonsuper  super_nonsuperdiff  \n",
       "0                          f                 6.0  \n",
       "1                          f               -19.0  \n",
       "2                          f               -54.0  \n",
       "3                          f              -204.0  \n",
       "4                          f              -104.0  "
      ]
     },
     "execution_count": 16,
     "metadata": {},
     "output_type": "execute_result"
    }
   ],
   "source": [
    "merged_df.head()"
   ]
  },
  {
   "cell_type": "code",
   "execution_count": 18,
   "id": "42c912cb",
   "metadata": {},
   "outputs": [],
   "source": [
    "extracted_df=merged_df.sort_values(by='super_nonsuperdiff',ascending=False).head(1)"
   ]
  },
  {
   "cell_type": "code",
   "execution_count": 19,
   "id": "556605f7",
   "metadata": {},
   "outputs": [
    {
     "data": {
      "text/html": [
       "<div>\n",
       "<style scoped>\n",
       "    .dataframe tbody tr th:only-of-type {\n",
       "        vertical-align: middle;\n",
       "    }\n",
       "\n",
       "    .dataframe tbody tr th {\n",
       "        vertical-align: top;\n",
       "    }\n",
       "\n",
       "    .dataframe thead th {\n",
       "        text-align: right;\n",
       "    }\n",
       "</style>\n",
       "<table border=\"1\" class=\"dataframe\">\n",
       "  <thead>\n",
       "    <tr style=\"text-align: right;\">\n",
       "      <th></th>\n",
       "      <th>price_super</th>\n",
       "      <th>neighbourhood_cleansed</th>\n",
       "      <th>host_is_superhost_super</th>\n",
       "      <th>price_nonsuper</th>\n",
       "      <th>host_is_superhost_nonsuper</th>\n",
       "      <th>super_nonsuperdiff</th>\n",
       "    </tr>\n",
       "  </thead>\n",
       "  <tbody>\n",
       "    <tr>\n",
       "      <th>19982418</th>\n",
       "      <td>25000.0</td>\n",
       "      <td>Islington</td>\n",
       "      <td>t</td>\n",
       "      <td>1.0</td>\n",
       "      <td>f</td>\n",
       "      <td>24999.0</td>\n",
       "    </tr>\n",
       "  </tbody>\n",
       "</table>\n",
       "</div>"
      ],
      "text/plain": [
       "          price_super neighbourhood_cleansed host_is_superhost_super  \\\n",
       "19982418      25000.0              Islington                       t   \n",
       "\n",
       "          price_nonsuper host_is_superhost_nonsuper  super_nonsuperdiff  \n",
       "19982418             1.0                          f             24999.0  "
      ]
     },
     "execution_count": 19,
     "metadata": {},
     "output_type": "execute_result"
    }
   ],
   "source": [
    "extracted_df"
   ]
  },
  {
   "cell_type": "code",
   "execution_count": null,
   "id": "a5d7929a",
   "metadata": {},
   "outputs": [],
   "source": []
  }
 ],
 "metadata": {
  "kernelspec": {
   "display_name": "Python 3 (ipykernel)",
   "language": "python",
   "name": "python3"
  },
  "language_info": {
   "codemirror_mode": {
    "name": "ipython",
    "version": 3
   },
   "file_extension": ".py",
   "mimetype": "text/x-python",
   "name": "python",
   "nbconvert_exporter": "python",
   "pygments_lexer": "ipython3",
   "version": "3.10.9"
  }
 },
 "nbformat": 4,
 "nbformat_minor": 5
}
